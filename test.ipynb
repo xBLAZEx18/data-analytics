{
 "cells": [
  {
   "cell_type": "markdown",
   "metadata": {},
   "source": [
    "`Q.1 Write a program to print numbers from 1 to 10 using for loop.` "
   ]
  },
  {
   "cell_type": "code",
   "execution_count": 3,
   "metadata": {},
   "outputs": [
    {
     "name": "stdout",
     "output_type": "stream",
     "text": [
      "1 2 3 4 5 6 7 8 9 10 "
     ]
    }
   ],
   "source": [
    "for i in range(1,11):\n",
    "    print(i,end=' ')"
   ]
  },
  {
   "cell_type": "markdown",
   "metadata": {},
   "source": [
    "`Q.2 Write a program to print the multiplication table of a given number using a while loop.`"
   ]
  },
  {
   "cell_type": "code",
   "execution_count": 9,
   "metadata": {},
   "outputs": [
    {
     "name": "stdout",
     "output_type": "stream",
     "text": [
      "9 * 1 = 9\n",
      "9 * 2 = 18\n",
      "9 * 3 = 27\n",
      "9 * 4 = 36\n",
      "9 * 5 = 45\n",
      "9 * 6 = 54\n",
      "9 * 7 = 63\n",
      "9 * 8 = 72\n",
      "9 * 9 = 81\n",
      "9 * 10 = 90\n"
     ]
    }
   ],
   "source": [
    "num = int(input(\"enter a number : \"))\n",
    "j = 1\n",
    "prod = 0\n",
    "while j<=10:\n",
    "        prod = num * j\n",
    "        print(f\"{num} * {j} = {prod}\")\n",
    "        j= j+1"
   ]
  },
  {
   "cell_type": "markdown",
   "metadata": {},
   "source": [
    "`Q.3 Write a program to find the sum of all even numbers between 1 and 100 using a for loop`"
   ]
  },
  {
   "cell_type": "code",
   "execution_count": 11,
   "metadata": {},
   "outputs": [
    {
     "name": "stdout",
     "output_type": "stream",
     "text": [
      "2550\n"
     ]
    }
   ],
   "source": [
    "sum=0\n",
    "for i in range(1,101):\n",
    "    if (i%2==0):\n",
    "        sum = sum + i\n",
    "print(sum)"
   ]
  },
  {
   "cell_type": "markdown",
   "metadata": {},
   "source": [
    "`Q.4 Write a program to check if a given number is prime or not using while loop.`\n"
   ]
  },
  {
   "cell_type": "code",
   "execution_count": 95,
   "metadata": {},
   "outputs": [
    {
     "name": "stdout",
     "output_type": "stream",
     "text": [
      "10159 is a prime number\n"
     ]
    }
   ],
   "source": [
    "n = int(input(\"enter a number :\"))\n",
    "c = 1  \n",
    "f=0 \n",
    "if n==2:\n",
    "    print(f\"{n} is a prime number\")\n",
    "elif n!=2:\n",
    "    while c<n:\n",
    "        c+=1\n",
    "        if c == n :\n",
    "            break\n",
    "        elif n%c==0:\n",
    "            f =1\n",
    "            break\n",
    "if n ==1:\n",
    "    print(\"1 is neither prime nor composite\")\n",
    "elif n==2:\n",
    "    print(f'{n} is a prime number')\n",
    "elif f==0:\n",
    "    print(f'{n} is a prime number')\n",
    "elif f==1:\n",
    "    print(f'{n} is not a prime number')"
   ]
  },
  {
   "cell_type": "markdown",
   "metadata": {},
   "source": [
    "`Q.5 Write a program to calculate the factorial of a number using a for loop.`"
   ]
  },
  {
   "cell_type": "code",
   "execution_count": 109,
   "metadata": {},
   "outputs": [
    {
     "name": "stdout",
     "output_type": "stream",
     "text": [
      "40320\n"
     ]
    }
   ],
   "source": [
    "num=int(input(\"enter a number : \"))\n",
    "fac=1\n",
    "x=0\n",
    "for i in range(1,num+1):\n",
    "    fac=fac*i\n",
    "print(fac)"
   ]
  },
  {
   "cell_type": "markdown",
   "metadata": {},
   "source": [
    "`Q.6 Write a program to print the Fibonacci series up to a given limit using a for loop.`"
   ]
  },
  {
   "cell_type": "code",
   "execution_count": 137,
   "metadata": {},
   "outputs": [
    {
     "name": "stdout",
     "output_type": "stream",
     "text": [
      "0  1  1  2  3  5  8  13  21  34  55  89  144  233\n"
     ]
    }
   ],
   "source": [
    "num = int(input(\"enter the limit : \"))\n",
    "lis=[0,1,]\n",
    "sum=0\n",
    "n=0\n",
    "for i in range(0,num-2):\n",
    "        sum = lis[n]+lis[n+1]\n",
    "        lis.append(sum)\n",
    "        n+=1\n",
    "print(*lis, sep='  ')"
   ]
  },
  {
   "cell_type": "markdown",
   "metadata": {},
   "source": [
    "`Q.7 Write a program to find the largest element in an array using a for loop.`"
   ]
  },
  {
   "cell_type": "code",
   "execution_count": 143,
   "metadata": {},
   "outputs": [
    {
     "name": "stdout",
     "output_type": "stream",
     "text": [
      "Entered list is : [1, 2, 3, 4, 5, 66, 9, 8, 7, 1025]\n",
      "The largest element of the array is : 1025\n"
     ]
    }
   ],
   "source": [
    "lst=[]\n",
    "for x in range(0,10):\n",
    "    el = int(input(\"enter 10 numbers\"))\n",
    "    lst.append(el)\n",
    "print(f\"Entered list is : {lst}\")\n",
    "grt=0\n",
    "for i in lst:\n",
    "    if i > grt:\n",
    "        grt = i\n",
    "print(f'The largest element of the array is : {grt}')"
   ]
  },
  {
   "cell_type": "markdown",
   "metadata": {},
   "source": [
    "`Q.8 Write a program to reverse a given string using while loop.`"
   ]
  },
  {
   "cell_type": "code",
   "execution_count": 157,
   "metadata": {},
   "outputs": [
    {
     "name": "stdout",
     "output_type": "stream",
     "text": [
      "the original string is : my name is paras\n",
      "the reversed string is : sarap si eman ym"
     ]
    }
   ],
   "source": [
    "st=str(input(\"enter a string : \"))\n",
    "print(f\"the original string is : {st}\")\n",
    "l=len(st)\n",
    "x=-1\n",
    "print(\"the reversed string is : \" ,end='')\n",
    "while x>=-l:\n",
    "    print(st[x],end='')\n",
    "    x = x-1"
   ]
  },
  {
   "cell_type": "markdown",
   "metadata": {},
   "source": [
    "`Q.9 Write a program to print the ASCII values of all the uppercase letters using a for loop.`"
   ]
  },
  {
   "cell_type": "code",
   "execution_count": 162,
   "metadata": {},
   "outputs": [
    {
     "name": "stdout",
     "output_type": "stream",
     "text": [
      "65 - A\n",
      "66 - B\n",
      "67 - C\n",
      "68 - D\n",
      "69 - E\n",
      "70 - F\n",
      "71 - G\n",
      "72 - H\n",
      "73 - I\n",
      "74 - J\n",
      "75 - K\n",
      "76 - L\n",
      "77 - M\n",
      "78 - N\n",
      "79 - O\n",
      "80 - P\n",
      "81 - Q\n",
      "82 - R\n",
      "83 - S\n",
      "84 - T\n",
      "85 - U\n",
      "86 - V\n",
      "87 - W\n",
      "88 - X\n",
      "89 - Y\n",
      "90 - Z\n"
     ]
    }
   ],
   "source": [
    "for ch in range(65,91):\n",
    "    print(f\"{str(ch)} - {chr(ch)}\")"
   ]
  },
  {
   "cell_type": "markdown",
   "metadata": {},
   "source": [
    "`Q.10 Write a program to check if a given string is a palindrome or not using a for loop.`"
   ]
  },
  {
   "cell_type": "code",
   "execution_count": 164,
   "metadata": {},
   "outputs": [
    {
     "name": "stdout",
     "output_type": "stream",
     "text": [
      "The original string is : naman\n",
      "The reversed string is : n\n",
      "The reversed string is : an\n",
      "The reversed string is : man\n",
      "The reversed string is : aman\n",
      "The reversed string is : naman\n",
      "The String is palindrome\n"
     ]
    }
   ],
   "source": [
    "t=input(\"enter a string : \")\n",
    "print(f\"The original string is : {t}\")\n",
    "rev=\"\"\n",
    "for i in t:\n",
    "    rev=i+rev\n",
    "    print(f\"The reversed string is : {rev}\")\n",
    "if(t==rev):\n",
    "    print(\"The String is palindrome\")\n",
    "else:\n",
    "    print(\"The string is not palindrome\")"
   ]
  },
  {
   "cell_type": "code",
   "execution_count": null,
   "metadata": {},
   "outputs": [],
   "source": []
  }
 ],
 "metadata": {
  "kernelspec": {
   "display_name": "base",
   "language": "python",
   "name": "python3"
  },
  "language_info": {
   "codemirror_mode": {
    "name": "ipython",
    "version": 3
   },
   "file_extension": ".py",
   "mimetype": "text/x-python",
   "name": "python",
   "nbconvert_exporter": "python",
   "pygments_lexer": "ipython3",
   "version": "3.12.4"
  }
 },
 "nbformat": 4,
 "nbformat_minor": 2
}

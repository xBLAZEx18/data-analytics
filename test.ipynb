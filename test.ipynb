{
 "cells": [
  {
   "cell_type": "markdown",
   "metadata": {},
   "source": [
    "# LOOP QUESTIONS"
   ]
  },
  {
   "cell_type": "markdown",
   "metadata": {},
   "source": [
    "`Q.1 Write a program to print numbers from 1 to 10 using for loop.` "
   ]
  },
  {
   "cell_type": "code",
   "execution_count": 3,
   "metadata": {},
   "outputs": [
    {
     "name": "stdout",
     "output_type": "stream",
     "text": [
      "1 2 3 4 5 6 7 8 9 10 "
     ]
    }
   ],
   "source": [
    "for i in range(1,11):\n",
    "    print(i,end=' ')"
   ]
  },
  {
   "cell_type": "markdown",
   "metadata": {},
   "source": [
    "`Q.2 Write a program to print the multiplication table of a given number using a while loop.`"
   ]
  },
  {
   "cell_type": "code",
   "execution_count": 9,
   "metadata": {},
   "outputs": [
    {
     "name": "stdout",
     "output_type": "stream",
     "text": [
      "9 * 1 = 9\n",
      "9 * 2 = 18\n",
      "9 * 3 = 27\n",
      "9 * 4 = 36\n",
      "9 * 5 = 45\n",
      "9 * 6 = 54\n",
      "9 * 7 = 63\n",
      "9 * 8 = 72\n",
      "9 * 9 = 81\n",
      "9 * 10 = 90\n"
     ]
    }
   ],
   "source": [
    "num = int(input(\"enter a number : \"))\n",
    "j = 1\n",
    "prod = 0\n",
    "while j<=10:\n",
    "        prod = num * j\n",
    "        print(f\"{num} * {j} = {prod}\")\n",
    "        j= j+1"
   ]
  },
  {
   "cell_type": "markdown",
   "metadata": {},
   "source": [
    "`Q.3 Write a program to find the sum of all even numbers between 1 and 100 using a for loop`"
   ]
  },
  {
   "cell_type": "code",
   "execution_count": 11,
   "metadata": {},
   "outputs": [
    {
     "name": "stdout",
     "output_type": "stream",
     "text": [
      "2550\n"
     ]
    }
   ],
   "source": [
    "sum=0\n",
    "for i in range(1,101):\n",
    "    if (i%2==0):\n",
    "        sum = sum + i\n",
    "print(sum)"
   ]
  },
  {
   "cell_type": "markdown",
   "metadata": {},
   "source": [
    "`Q.4 Write a program to check if a given number is prime or not using while loop.`\n"
   ]
  },
  {
   "cell_type": "code",
   "execution_count": 95,
   "metadata": {},
   "outputs": [
    {
     "name": "stdout",
     "output_type": "stream",
     "text": [
      "10159 is a prime number\n"
     ]
    }
   ],
   "source": [
    "n = int(input(\"enter a number :\"))\n",
    "c = 1  \n",
    "f=0 \n",
    "if n==2:\n",
    "    print(f\"{n} is a prime number\")\n",
    "elif n!=2:\n",
    "    while c<n:\n",
    "        c+=1\n",
    "        if c == n :\n",
    "            break\n",
    "        elif n%c==0:\n",
    "            f =1\n",
    "            break\n",
    "if n ==1:\n",
    "    print(\"1 is neither prime nor composite\")\n",
    "elif n==2:\n",
    "    print(f'{n} is a prime number')\n",
    "elif f==0:\n",
    "    print(f'{n} is a prime number')\n",
    "elif f==1:\n",
    "    print(f'{n} is not a prime number')"
   ]
  },
  {
   "cell_type": "markdown",
   "metadata": {},
   "source": [
    "`Q.5 Write a program to calculate the factorial of a number using a for loop.`"
   ]
  },
  {
   "cell_type": "code",
   "execution_count": 109,
   "metadata": {},
   "outputs": [
    {
     "name": "stdout",
     "output_type": "stream",
     "text": [
      "40320\n"
     ]
    }
   ],
   "source": [
    "num=int(input(\"enter a number : \"))\n",
    "fac=1\n",
    "x=0\n",
    "for i in range(1,num+1):\n",
    "    fac=fac*i\n",
    "print(fac)"
   ]
  },
  {
   "cell_type": "markdown",
   "metadata": {},
   "source": [
    "`Q.6 Write a program to print the Fibonacci series up to a given limit using a for loop.`"
   ]
  },
  {
   "cell_type": "code",
   "execution_count": 137,
   "metadata": {},
   "outputs": [
    {
     "name": "stdout",
     "output_type": "stream",
     "text": [
      "0  1  1  2  3  5  8  13  21  34  55  89  144  233\n"
     ]
    }
   ],
   "source": [
    "num = int(input(\"enter the limit : \"))\n",
    "lis=[0,1,]\n",
    "sum=0\n",
    "n=0\n",
    "for i in range(0,num-2):\n",
    "        sum = lis[n]+lis[n+1]\n",
    "        lis.append(sum)\n",
    "        n+=1\n",
    "print(*lis, sep='  ')"
   ]
  },
  {
   "cell_type": "markdown",
   "metadata": {},
   "source": [
    "`Q.7 Write a program to find the largest element in an array using a for loop.`"
   ]
  },
  {
   "cell_type": "code",
   "execution_count": 143,
   "metadata": {},
   "outputs": [
    {
     "name": "stdout",
     "output_type": "stream",
     "text": [
      "Entered list is : [1, 2, 3, 4, 5, 66, 9, 8, 7, 1025]\n",
      "The largest element of the array is : 1025\n"
     ]
    }
   ],
   "source": [
    "lst=[]\n",
    "for x in range(0,10):\n",
    "    el = int(input(\"enter 10 numbers\"))\n",
    "    lst.append(el)\n",
    "print(f\"Entered list is : {lst}\")\n",
    "grt=0\n",
    "for i in lst:\n",
    "    if i > grt:\n",
    "        grt = i\n",
    "print(f'The largest element of the array is : {grt}')"
   ]
  },
  {
   "cell_type": "markdown",
   "metadata": {},
   "source": [
    "`Q.8 Write a program to reverse a given string using while loop.`"
   ]
  },
  {
   "cell_type": "code",
   "execution_count": 157,
   "metadata": {},
   "outputs": [
    {
     "name": "stdout",
     "output_type": "stream",
     "text": [
      "the original string is : my name is paras\n",
      "the reversed string is : sarap si eman ym"
     ]
    }
   ],
   "source": [
    "st=str(input(\"enter a string : \"))\n",
    "print(f\"the original string is : {st}\")\n",
    "l=len(st)\n",
    "x=-1\n",
    "print(\"the reversed string is : \" ,end='')\n",
    "while x>=-l:\n",
    "    print(st[x],end='')\n",
    "    x = x-1"
   ]
  },
  {
   "cell_type": "markdown",
   "metadata": {},
   "source": [
    "`Q.9 Write a program to print the ASCII values of all the uppercase letters using a for loop.`"
   ]
  },
  {
   "cell_type": "code",
   "execution_count": 162,
   "metadata": {},
   "outputs": [
    {
     "name": "stdout",
     "output_type": "stream",
     "text": [
      "65 - A\n",
      "66 - B\n",
      "67 - C\n",
      "68 - D\n",
      "69 - E\n",
      "70 - F\n",
      "71 - G\n",
      "72 - H\n",
      "73 - I\n",
      "74 - J\n",
      "75 - K\n",
      "76 - L\n",
      "77 - M\n",
      "78 - N\n",
      "79 - O\n",
      "80 - P\n",
      "81 - Q\n",
      "82 - R\n",
      "83 - S\n",
      "84 - T\n",
      "85 - U\n",
      "86 - V\n",
      "87 - W\n",
      "88 - X\n",
      "89 - Y\n",
      "90 - Z\n"
     ]
    }
   ],
   "source": [
    "for ch in range(65,91):\n",
    "    print(f\"{str(ch)} - {chr(ch)}\")"
   ]
  },
  {
   "cell_type": "markdown",
   "metadata": {},
   "source": [
    "`Q.10 Write a program to check if a given string is a palindrome or not using a for loop.`"
   ]
  },
  {
   "cell_type": "code",
   "execution_count": 168,
   "metadata": {},
   "outputs": [
    {
     "name": "stdout",
     "output_type": "stream",
     "text": [
      "The original string is : sore was I ere I saw eros\n",
      "The reversed string is : s\n",
      "The reversed string is : os\n",
      "The reversed string is : ros\n",
      "The reversed string is : eros\n",
      "The reversed string is :  eros\n",
      "The reversed string is : w eros\n",
      "The reversed string is : aw eros\n",
      "The reversed string is : saw eros\n",
      "The reversed string is :  saw eros\n",
      "The reversed string is : I saw eros\n",
      "The reversed string is :  I saw eros\n",
      "The reversed string is : e I saw eros\n",
      "The reversed string is : re I saw eros\n",
      "The reversed string is : ere I saw eros\n",
      "The reversed string is :  ere I saw eros\n",
      "The reversed string is : I ere I saw eros\n",
      "The reversed string is :  I ere I saw eros\n",
      "The reversed string is : s I ere I saw eros\n",
      "The reversed string is : as I ere I saw eros\n",
      "The reversed string is : was I ere I saw eros\n",
      "The reversed string is :  was I ere I saw eros\n",
      "The reversed string is : e was I ere I saw eros\n",
      "The reversed string is : re was I ere I saw eros\n",
      "The reversed string is : ore was I ere I saw eros\n",
      "The reversed string is : sore was I ere I saw eros\n",
      "The String is palindrome\n"
     ]
    }
   ],
   "source": [
    "t=input(\"enter a string : \")\n",
    "print(f\"The original string is : {t}\")\n",
    "rev=\"\"\n",
    "for i in t:\n",
    "    rev=i+rev\n",
    "    print(f\"The reversed string is : {rev}\")\n",
    "if(t==rev):\n",
    "    print(\"The String is palindrome\")\n",
    "else:\n",
    "    print(\"The string is not palindrome\")"
   ]
  },
  {
   "cell_type": "markdown",
   "metadata": {},
   "source": [
    "`Q.11 Write a program to calculate the average of a list of numbers using a for loop.`"
   ]
  },
  {
   "cell_type": "code",
   "execution_count": 3,
   "metadata": {},
   "outputs": [
    {
     "name": "stdout",
     "output_type": "stream",
     "text": [
      "The entered list is : [12, 25, 24, 26, 54]\n",
      "The average of the given numbers is : 28.2\n"
     ]
    }
   ],
   "source": [
    "a=int(input(\"enter the number of elements : \"))\n",
    "listt=[]\n",
    "x=0\n",
    "summ = 0\n",
    "while x < a:\n",
    "    el=int(input(\"enter the elements : \"))\n",
    "    listt.append(el)\n",
    "    x+=1\n",
    "print(f\"The entered list is : {listt}\")\n",
    "for i in listt:\n",
    "    summ = (summ + i)\n",
    "avg = summ / a\n",
    "print(f\"The average of the given numbers is : {avg}\")"
   ]
  },
  {
   "cell_type": "markdown",
   "metadata": {},
   "source": [
    "`Q.12 Write a program to find the smallest element in an array using a while loop.`"
   ]
  },
  {
   "cell_type": "code",
   "execution_count": 7,
   "metadata": {},
   "outputs": [
    {
     "name": "stdout",
     "output_type": "stream",
     "text": [
      "The entered list is : [12, 25, 24, 26, 54]\n",
      "The smallest element of the given numbers is : 12\n"
     ]
    }
   ],
   "source": [
    "q=int(input(\"enter the number of elements : \"))\n",
    "listtt=[]\n",
    "o=0\n",
    "while o < q:\n",
    "    el=int(input(\"enter the elements : \"))\n",
    "    listtt.append(el)\n",
    "    o+=1\n",
    "print(f\"The entered list is : {listtt}\")\n",
    "small=listtt[0]\n",
    "l=0\n",
    "while l < q:\n",
    "    if listtt[l] < small:\n",
    "        small = listtt[l]\n",
    "    l+=1\n",
    "print(f\"The smallest element of the given numbers is : {small}\")"
   ]
  },
  {
   "cell_type": "markdown",
   "metadata": {},
   "source": [
    "`Q.13 Write a program to calculate the sum of digits of a number using a for loop.`"
   ]
  },
  {
   "cell_type": "code",
   "execution_count": 13,
   "metadata": {},
   "outputs": [
    {
     "name": "stdout",
     "output_type": "stream",
     "text": [
      "The entered number is : 5457457\n",
      "The sum of the digits is : 37\n"
     ]
    }
   ],
   "source": [
    "nu = input(\"enter a number : \")\n",
    "print(f\"The entered number is : {nu}\")\n",
    "su = 0\n",
    "p = 0\n",
    "for i in nu:\n",
    "    su = su + int(i)\n",
    "print(f\"The sum of the digits is : {su}\")"
   ]
  },
  {
   "cell_type": "markdown",
   "metadata": {},
   "source": [
    "`Q.14 Write a program to check if a given list of years has a leap year using while loop.`"
   ]
  },
  {
   "cell_type": "code",
   "execution_count": 19,
   "metadata": {},
   "outputs": [
    {
     "name": "stdout",
     "output_type": "stream",
     "text": [
      "The entered list of years is : [2004, 2000, 2024, 2014, 1999]\n",
      "The leap years is the given list is : [2004, 2000, 2024]\n"
     ]
    }
   ],
   "source": [
    "ttl = int(input(\"enter the total number of years : \"))\n",
    "years = []\n",
    "y = 0\n",
    "while y < ttl:\n",
    "    elm = int(input(\"enter the years : \"))\n",
    "    years.append(elm)\n",
    "    y+=1\n",
    "print(f\"The entered list of years is : {years}\")\n",
    "h = 0\n",
    "leap=[]\n",
    "while h < ttl:\n",
    "    if (years[h] % 4 == 0 and years[h] % 100 !=0) or (years[h] %400 ==0):\n",
    "        leap .append(years[h])\n",
    "    h+=1\n",
    "print(f\"The leap years is the given list is : {leap}\")"
   ]
  },
  {
   "cell_type": "markdown",
   "metadata": {},
   "source": [
    "`Q.15 Write a program to print the multiplication table of number from 1 to 5 using a for loop.`"
   ]
  },
  {
   "cell_type": "code",
   "execution_count": 44,
   "metadata": {},
   "outputs": [
    {
     "name": "stdout",
     "output_type": "stream",
     "text": [
      "1 * 1 = 1\n",
      "1 * 2 = 2\n",
      "1 * 3 = 3\n",
      "1 * 4 = 4\n",
      "1 * 5 = 5\n",
      "1 * 6 = 6\n",
      "1 * 7 = 7\n",
      "1 * 8 = 8\n",
      "1 * 9 = 9\n",
      "1 * 10 = 10\n",
      "\n",
      "2 * 1 = 2\n",
      "2 * 2 = 4\n",
      "2 * 3 = 6\n",
      "2 * 4 = 8\n",
      "2 * 5 = 10\n",
      "2 * 6 = 12\n",
      "2 * 7 = 14\n",
      "2 * 8 = 16\n",
      "2 * 9 = 18\n",
      "2 * 10 = 20\n",
      "\n",
      "3 * 1 = 3\n",
      "3 * 2 = 6\n",
      "3 * 3 = 9\n",
      "3 * 4 = 12\n",
      "3 * 5 = 15\n",
      "3 * 6 = 18\n",
      "3 * 7 = 21\n",
      "3 * 8 = 24\n",
      "3 * 9 = 27\n",
      "3 * 10 = 30\n",
      "\n",
      "4 * 1 = 4\n",
      "4 * 2 = 8\n",
      "4 * 3 = 12\n",
      "4 * 4 = 16\n",
      "4 * 5 = 20\n",
      "4 * 6 = 24\n",
      "4 * 7 = 28\n",
      "4 * 8 = 32\n",
      "4 * 9 = 36\n",
      "4 * 10 = 40\n",
      "\n",
      "5 * 1 = 5\n",
      "5 * 2 = 10\n",
      "5 * 3 = 15\n",
      "5 * 4 = 20\n",
      "5 * 5 = 25\n",
      "5 * 6 = 30\n",
      "5 * 7 = 35\n",
      "5 * 8 = 40\n",
      "5 * 9 = 45\n",
      "5 * 10 = 50\n",
      "\n"
     ]
    }
   ],
   "source": [
    "\n",
    "for i in range(1,6):\n",
    "    for z in range(1,11):\n",
    "        print(f\"{i} * {z} = {i*z}\")\n",
    "    print('')\n"
   ]
  },
  {
   "cell_type": "markdown",
   "metadata": {},
   "source": [
    "`Q.16 Write a program to find the factorail of a number using a for loop.`"
   ]
  },
  {
   "cell_type": "code",
   "execution_count": 47,
   "metadata": {},
   "outputs": [
    {
     "name": "stdout",
     "output_type": "stream",
     "text": [
      "120\n"
     ]
    }
   ],
   "source": [
    "num=int(input(\"enter a number : \"))\n",
    "fac=1\n",
    "x=0\n",
    "for i in range(1,num+1):\n",
    "    fac=fac*i\n",
    "print(fac)\n"
   ]
  },
  {
   "cell_type": "markdown",
   "metadata": {},
   "source": [
    "`Q.17 Write a program to count the number of vowels in a given string using a for loop.`"
   ]
  },
  {
   "cell_type": "code",
   "execution_count": 51,
   "metadata": {},
   "outputs": [
    {
     "name": "stdout",
     "output_type": "stream",
     "text": [
      "The total number of vowels in the scentence are : 7\n"
     ]
    }
   ],
   "source": [
    "scentence = input(\"Enter a scentence : \")\n",
    "count = 0\n",
    "for i in scentence:\n",
    "    if i in 'aeiouAEIOU':\n",
    "        count+=1\n",
    "print(f\"The total number of vowels in the scentence are : {count}\")"
   ]
  },
  {
   "cell_type": "markdown",
   "metadata": {},
   "source": [
    "`Q.18 Write a program to find the largest and the smallest element in an array using a for loop.`"
   ]
  },
  {
   "cell_type": "code",
   "execution_count": 52,
   "metadata": {},
   "outputs": [
    {
     "name": "stdout",
     "output_type": "stream",
     "text": [
      "The entered array is : [95, 48, 26, 35, 57]\n",
      "The greatest element of the given array is : 95\n",
      "The smallest element of the given array is : 26\n"
     ]
    }
   ],
   "source": [
    "leng = int(input(\"enter the number of elements : \"))\n",
    "array = []\n",
    "r = 0\n",
    "while r < leng:\n",
    "    ele = int(input(\"enter the numbers : \"))\n",
    "    array.append(ele)\n",
    "    r+=1\n",
    "print(f\"The entered array is : {array}\")\n",
    "big = array[0]\n",
    "lil = array[0]\n",
    "for i in array:\n",
    "    if i > big:\n",
    "        big = i\n",
    "    if i < lil:\n",
    "        lil = i\n",
    "print(f\"The greatest element of the given array is : {big}\")\n",
    "print(f\"The smallest element of the given array is : {lil}\")"
   ]
  },
  {
   "cell_type": "markdown",
   "metadata": {},
   "source": [
    "`Q.19 Write a program to reverse the order of words in a scentence using a while loop.`"
   ]
  },
  {
   "cell_type": "code",
   "execution_count": 54,
   "metadata": {},
   "outputs": [
    {
     "name": "stdout",
     "output_type": "stream",
     "text": [
      "paras is name my\n"
     ]
    }
   ],
   "source": [
    "strr = input(\"enter the scentence : \")\n",
    "s = strr.split()[::-1]\n",
    "l = []\n",
    "for i in s:\n",
    "\tl.append(i)\n",
    "print(\" \".join(l))\n"
   ]
  },
  {
   "cell_type": "markdown",
   "metadata": {},
   "source": [
    "# STRING QUESTIONS"
   ]
  },
  {
   "cell_type": "markdown",
   "metadata": {},
   "source": [
    "`Q.1 Create a string and print it.`"
   ]
  },
  {
   "cell_type": "code",
   "execution_count": 1,
   "metadata": {},
   "outputs": [
    {
     "name": "stdout",
     "output_type": "stream",
     "text": [
      "Welcome my friend welcome\n"
     ]
    }
   ],
   "source": [
    "st = \"Welcome my friend welcome\"\n",
    "print(st)"
   ]
  },
  {
   "cell_type": "markdown",
   "metadata": {},
   "source": [
    "`Q.2 Take a string input and print it's length.`"
   ]
  },
  {
   "cell_type": "code",
   "execution_count": 3,
   "metadata": {},
   "outputs": [
    {
     "name": "stdout",
     "output_type": "stream",
     "text": [
      "25\n"
     ]
    }
   ],
   "source": [
    "st = input(\"enter a scentence : \")\n",
    "print(len(st))"
   ]
  },
  {
   "cell_type": "markdown",
   "metadata": {},
   "source": [
    "`Q.3 Print the last word of the string \"Python is great\" using slices.`"
   ]
  },
  {
   "cell_type": "code",
   "execution_count": 4,
   "metadata": {},
   "outputs": [
    {
     "name": "stdout",
     "output_type": "stream",
     "text": [
      "great\n"
     ]
    }
   ],
   "source": [
    "st = \"Python is great\"\n",
    "print(st[10:])"
   ]
  },
  {
   "cell_type": "markdown",
   "metadata": {},
   "source": [
    "`Q.4 Print the each word in different line of string \"python is everywhere\".`"
   ]
  },
  {
   "cell_type": "code",
   "execution_count": 7,
   "metadata": {},
   "outputs": [
    {
     "name": "stdout",
     "output_type": "stream",
     "text": [
      "python\n",
      "is\n",
      "everywhere\n"
     ]
    }
   ],
   "source": [
    "st = \"python is everywhere\"\n",
    "print(st[:6])\n",
    "print(st[7:9])\n",
    "print(st[10:])"
   ]
  },
  {
   "cell_type": "markdown",
   "metadata": {},
   "source": [
    "`Q.5 Print the string \"Hello World!\" in reverse.`"
   ]
  },
  {
   "cell_type": "code",
   "execution_count": 8,
   "metadata": {},
   "outputs": [
    {
     "name": "stdout",
     "output_type": "stream",
     "text": [
      "!dlroW olleH\n"
     ]
    }
   ],
   "source": [
    "st = \"Hello World!\"\n",
    "print(st[::-1])"
   ]
  },
  {
   "cell_type": "markdown",
   "metadata": {},
   "source": [
    "`Q.6 Convert the srting \"How are you?\" in uppercase.`"
   ]
  },
  {
   "cell_type": "code",
   "execution_count": 9,
   "metadata": {},
   "outputs": [
    {
     "name": "stdout",
     "output_type": "stream",
     "text": [
      "HOW ARE YOU?\n"
     ]
    }
   ],
   "source": [
    "st = \"How are you?\"\n",
    "print(st.upper())"
   ]
  },
  {
   "cell_type": "markdown",
   "metadata": {},
   "source": [
    "`Q.7 Convert the string \"How Is It Going?\" in lowercase.`"
   ]
  },
  {
   "cell_type": "code",
   "execution_count": 10,
   "metadata": {},
   "outputs": [
    {
     "name": "stdout",
     "output_type": "stream",
     "text": [
      "how is it going?\n"
     ]
    }
   ],
   "source": [
    "st = \"How Is It Going?\"\n",
    "print(st.lower())"
   ]
  },
  {
   "cell_type": "markdown",
   "metadata": {},
   "source": [
    "`Q.8 join the following list by spaces( ) and print the result :`\n",
    "```python\n",
    "words = ['Python','is','easy','to','learn'].\n",
    "```"
   ]
  },
  {
   "cell_type": "code",
   "execution_count": 19,
   "metadata": {},
   "outputs": [
    {
     "name": "stdout",
     "output_type": "stream",
     "text": [
      "Python is easy to learn\n"
     ]
    }
   ],
   "source": [
    "words = ['Python','is','easy','to','learn']\n",
    "print(*words , sep=' ')"
   ]
  },
  {
   "cell_type": "markdown",
   "metadata": {},
   "source": [
    "`Q.9 Print a multiline string using a single print.`"
   ]
  },
  {
   "cell_type": "code",
   "execution_count": 10,
   "metadata": {},
   "outputs": [
    {
     "name": "stdout",
     "output_type": "stream",
     "text": [
      "johny johny, yes papa,\n",
      "eating sugar?, no papa,\n",
      "telling lies?, no papa,\n",
      "open your mouth, ha! ha! ha!\n"
     ]
    }
   ],
   "source": [
    "poem='''\n",
    "johny johny, yes papa,\n",
    "eating sugar?, no papa,\n",
    "telling lies?, no papa,\n",
    "open your mouth, ha! ha! ha!\n",
    "'''\n",
    "scentence=poem.strip().splitlines()\n",
    "print(*scentence, sep='\\n')"
   ]
  },
  {
   "cell_type": "markdown",
   "metadata": {},
   "source": [
    "`Q.10 Print this string \"to move to newline '\\n' is used. \n",
    "(results should look exactly like the provided string).`"
   ]
  },
  {
   "cell_type": "code",
   "execution_count": 13,
   "metadata": {},
   "outputs": [
    {
     "name": "stdout",
     "output_type": "stream",
     "text": [
      "to move to newline '\\n' is used\n"
     ]
    }
   ],
   "source": [
    "print(\"to move to newline '\\\\n' is used\")"
   ]
  },
  {
   "cell_type": "markdown",
   "metadata": {},
   "source": [
    "`Q.11 Print a variable with some text using a single print function , output should look like following : `                                 \n",
    "```python\n",
    "\" the variable is 15\"\n",
    "```"
   ]
  },
  {
   "cell_type": "code",
   "execution_count": 14,
   "metadata": {},
   "outputs": [
    {
     "name": "stdout",
     "output_type": "stream",
     "text": [
      "The variable is : 15\n"
     ]
    }
   ],
   "source": [
    "number = int(input(\"enter a number : \"))\n",
    "print(f\"The variable is : {number}\")"
   ]
  },
  {
   "cell_type": "markdown",
   "metadata": {},
   "source": [
    "`Q.12 Concatenate the following string and print the result : `\n",
    "```python\n",
    "s1= 'pyhton'\n",
    "s2= 'is'\n",
    "s3= 'great.'\n",
    "```"
   ]
  },
  {
   "cell_type": "code",
   "execution_count": 18,
   "metadata": {},
   "outputs": [
    {
     "name": "stdout",
     "output_type": "stream",
     "text": [
      "python is great.\n"
     ]
    }
   ],
   "source": [
    "s1 = 'python'\n",
    "s2 = 'is'\n",
    "s3 = 'great.'\n",
    "print(s1 +' '+ s2 +' '+ s3)"
   ]
  },
  {
   "cell_type": "markdown",
   "metadata": {},
   "source": [
    "`Q.13 Print \"#\" 20 times without using a loop.`"
   ]
  },
  {
   "cell_type": "code",
   "execution_count": 20,
   "metadata": {},
   "outputs": [
    {
     "name": "stdout",
     "output_type": "stream",
     "text": [
      "# # # # # # # # # # # # # # # # # # # # \n"
     ]
    }
   ],
   "source": [
    "print((\"#\" + ' ' )*20)"
   ]
  },
  {
   "cell_type": "markdown",
   "metadata": {},
   "source": [
    "`Q.14 Print numbers from 1 to 9, each on a seperate line, followed by a dot, output should look like the following: `\n",
    "```python\n",
    "1.\n",
    "2.\n",
    "3.\n",
    "```"
   ]
  },
  {
   "cell_type": "code",
   "execution_count": 23,
   "metadata": {},
   "outputs": [
    {
     "name": "stdout",
     "output_type": "stream",
     "text": [
      "1.\n",
      "2.\n",
      "3.\n",
      "4.\n",
      "5.\n",
      "6.\n",
      "7.\n",
      "8.\n",
      "9.\n"
     ]
    }
   ],
   "source": [
    "for i in range(1,10):\n",
    "    print(str(i) + '.')"
   ]
  },
  {
   "cell_type": "markdown",
   "metadata": {},
   "source": [
    "`Q.15 Ask user to input a scentence and print each word on a different line.`"
   ]
  },
  {
   "cell_type": "code",
   "execution_count": 27,
   "metadata": {},
   "outputs": [
    {
     "name": "stdout",
     "output_type": "stream",
     "text": [
      "my\n",
      "name\n",
      "is\n",
      "paras\n"
     ]
    }
   ],
   "source": [
    "string = input(\"Enter a scentence : \")\n",
    "print(*string.split(), sep='\\n')"
   ]
  },
  {
   "cell_type": "markdown",
   "metadata": {},
   "source": [
    "`Q.16 Ask user to input a string and check if the string ends with '?'.`"
   ]
  },
  {
   "cell_type": "code",
   "execution_count": 32,
   "metadata": {},
   "outputs": [
    {
     "name": "stdout",
     "output_type": "stream",
     "text": [
      "The entered string is : how? are? you\n",
      "False\n"
     ]
    }
   ],
   "source": [
    "stringg = input(\"enter a scentence :\")\n",
    "print(f\"The entered string is : {stringg}\")\n",
    "if stringg.endswith('?') :\n",
    "     print(True)\n",
    "else:\n",
    "     print(False)"
   ]
  },
  {
   "cell_type": "markdown",
   "metadata": {},
   "source": [
    "`Q.17 Ask user to input a string and print how many times 'e' appeared in the string.`"
   ]
  },
  {
   "cell_type": "code",
   "execution_count": 35,
   "metadata": {},
   "outputs": [
    {
     "name": "stdout",
     "output_type": "stream",
     "text": [
      "The entered string is : Ask user to input a string and print how many times 'e' appeared in the string\n",
      "The number of times 'e' appeared is : 6\n"
     ]
    }
   ],
   "source": [
    "stringgg = input(\"enter a scenctence : \")\n",
    "print(f\"The entered string is : {stringgg}\")\n",
    "print(f\"The number of times 'e' appeared is : {stringgg.count('e')}\")"
   ]
  },
  {
   "cell_type": "markdown",
   "metadata": {},
   "source": [
    "`Q.18 Check if the user input is a number.`"
   ]
  },
  {
   "cell_type": "code",
   "execution_count": 38,
   "metadata": {},
   "outputs": [
    {
     "name": "stdout",
     "output_type": "stream",
     "text": [
      "The entered string is : 48\n",
      "True\n"
     ]
    }
   ],
   "source": [
    "stringggg = input(\"enter a scentence : \")\n",
    "print(f\"The entered string is : {stringggg}\")\n",
    "if stringggg.isdigit():\n",
    "    print(True)\n",
    "else:\n",
    "    print(False)"
   ]
  },
  {
   "cell_type": "markdown",
   "metadata": {},
   "source": [
    "`Q.19 Remove the extra spaces in the beginning and in the end of the following string : `\n",
    "```python\n",
    "text = '    this is not a good string           '\n",
    "```"
   ]
  },
  {
   "cell_type": "code",
   "execution_count": 39,
   "metadata": {},
   "outputs": [
    {
     "name": "stdout",
     "output_type": "stream",
     "text": [
      "The original string is :     this is not a good string       \n",
      "The original text without spaces : this is not a good string\n"
     ]
    }
   ],
   "source": [
    "text = '    this is not a good string       '\n",
    "print(f\"The original string is : {text}\")\n",
    "print(f\"The original text without spaces : {text.strip()}\")"
   ]
  },
  {
   "cell_type": "markdown",
   "metadata": {},
   "source": [
    "`Q.20 Ask user to input string, print 'found' if any character is upper case.`"
   ]
  },
  {
   "cell_type": "code",
   "execution_count": 44,
   "metadata": {},
   "outputs": [
    {
     "name": "stdout",
     "output_type": "stream",
     "text": [
      "The entered scentence is : Hello \n",
      "Found\n"
     ]
    }
   ],
   "source": [
    "s = input(\"enter a scentence :\")\n",
    "print(f\"The entered scentence is : {s}\")\n",
    "cnt = 0\n",
    "for i in s:\n",
    "    if i in 'ABCDEFGHIJKLMNOPQRTSUVWXYZ':\n",
    "        cnt+=1\n",
    "if cnt > 0:\n",
    "    print(\"Found\")\n",
    "else:\n",
    "    print(\"Not Found\")"
   ]
  },
  {
   "cell_type": "markdown",
   "metadata": {},
   "source": [
    "`Q.21 Extract names from the following string and store them in a list.`\n",
    "```python\n",
    "names = 'Joe, David, Mark, Tom, Chris, Robert'\n",
    "```\n"
   ]
  },
  {
   "cell_type": "code",
   "execution_count": 46,
   "metadata": {},
   "outputs": [
    {
     "name": "stdout",
     "output_type": "stream",
     "text": [
      "['Joe,', 'David,', 'Mark,', 'Tom,', 'Chris,', 'Robert']\n"
     ]
    }
   ],
   "source": [
    "names = 'Joe, David, Mark, Tom, Chris, Robert'\n",
    "name = names.split()\n",
    "print(name)"
   ]
  },
  {
   "cell_type": "markdown",
   "metadata": {},
   "source": [
    "`Q.22 In the following string, add \"aye\" in the end of every word and print the results.`\n",
    "```python\n",
    "text = 'this is some text'\n",
    "```"
   ]
  },
  {
   "cell_type": "code",
   "execution_count": 54,
   "metadata": {},
   "outputs": [
    {
     "name": "stdout",
     "output_type": "stream",
     "text": [
      "thisaye isaye someaye textaye "
     ]
    }
   ],
   "source": [
    "text = 'this is some text'\n",
    "print(*text.split(), sep='aye ',end='aye ')"
   ]
  },
  {
   "cell_type": "markdown",
   "metadata": {},
   "source": [
    "`Q.23 Ask user to enter a string and check if the string contains 'fyi'.`"
   ]
  },
  {
   "cell_type": "code",
   "execution_count": 88,
   "metadata": {},
   "outputs": [
    {
     "name": "stdout",
     "output_type": "stream",
     "text": [
      "The entered scentence is : skdjubhciksjhdbciksjuhndbcvlikjsndvcdsjc\n",
      "The entered scentence does not contain 'fyi'.\n"
     ]
    }
   ],
   "source": [
    "enter = input(\"enter a scentence : \")\n",
    "print(f\"The entered scentence is : {enter}\")\n",
    "if enter.find(\"fyi\") >= 0:\n",
    "    print(\"The entered scentence contains 'fyi'.\")\n",
    "else:\n",
    "    print(\"The entered scentence does not contain 'fyi'.\")"
   ]
  },
  {
   "cell_type": "markdown",
   "metadata": {},
   "source": [
    "`Q.24 Remove all the special characters and numbers from the following string :`\n",
    "```python\n",
    "text = '%p34@y!*-*!t68h#&on404'\n",
    "```"
   ]
  },
  {
   "cell_type": "code",
   "execution_count": 92,
   "metadata": {},
   "outputs": [
    {
     "name": "stdout",
     "output_type": "stream",
     "text": [
      "python"
     ]
    }
   ],
   "source": [
    "text = '%p34@y!*-*!t68h#&on404'\n",
    "for i in text:\n",
    "    if i.isalpha():\n",
    "        print(i,end='')\n",
    "    else:\n",
    "        text.strip(i)\n"
   ]
  },
  {
   "cell_type": "markdown",
   "metadata": {},
   "source": [
    "`Q.25 Calculate the average word length of the following paragraph.`\n",
    "```python\n",
    "'this is a paragraph which is written just for the purpose of providing content to let the average word length be calculated'\n",
    "```"
   ]
  },
  {
   "cell_type": "code",
   "execution_count": 95,
   "metadata": {},
   "outputs": [
    {
     "name": "stdout",
     "output_type": "stream",
     "text": [
      "['this', 'is', 'a', 'paragraph', 'which', 'is', 'written', 'just', 'for', 'the', 'purpose', 'of', 'providing', 'content', 'to', 'let', 'the', 'average', 'word', 'length', 'be', 'calculated']\n",
      "22\n"
     ]
    }
   ],
   "source": [
    "textt = \"this is a paragraph which is written just for the purpose of providing content to let the average word length be calculated\"\n",
    "lt = textt.split()\n",
    "print(lt)\n",
    "print(len(lt))"
   ]
  }
 ],
 "metadata": {
  "kernelspec": {
   "display_name": "base",
   "language": "python",
   "name": "python3"
  },
  "language_info": {
   "codemirror_mode": {
    "name": "ipython",
    "version": 3
   },
   "file_extension": ".py",
   "mimetype": "text/x-python",
   "name": "python",
   "nbconvert_exporter": "python",
   "pygments_lexer": "ipython3",
   "version": "3.12.4"
  }
 },
 "nbformat": 4,
 "nbformat_minor": 2
}

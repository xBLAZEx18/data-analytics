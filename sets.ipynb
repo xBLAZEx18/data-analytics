{
 "cells": [
  {
   "cell_type": "markdown",
   "metadata": {},
   "source": [
    "# Data Structure - SETS\n",
    "- unordered\n",
    "- mutable\n",
    "- unindexed\n",
    "- mixed immutable elements\n",
    "- unique elements\n",
    "- iterable\n",
    "- represented by curly braces `{}`\n",
    "- `set()` is used for creating sets"
   ]
  },
  {
   "cell_type": "code",
   "execution_count": 1,
   "metadata": {},
   "outputs": [
    {
     "name": "stdout",
     "output_type": "stream",
     "text": [
      "set() <class 'set'>\n",
      "{1, 2, 3}\n",
      "{'c', 'a', 'b'}\n",
      "{1, 2, 3, 4, 5}\n",
      "{1, 2, 3, 'c', 'a', 'b'}\n",
      "{1, 2, 3, 4}\n"
     ]
    }
   ],
   "source": [
    "x = set() # empty set\n",
    "print(x,type(x))\n",
    "y = {1,2,3}\n",
    "z = {'a','b','c'}\n",
    "print(y)\n",
    "print(z)\n",
    "a =set([1,2,3,4,5])\n",
    "print(a)\n",
    "b = {'a', 1 ,'b', 2 ,'c', 3}\n",
    "print(b)\n",
    "c = {1,2,3,4,1,2,3,4,1,2,3,4}\n",
    "print(c)"
   ]
  },
  {
   "cell_type": "code",
   "execution_count": 2,
   "metadata": {},
   "outputs": [
    {
     "name": "stdout",
     "output_type": "stream",
     "text": [
      "1\n",
      "2\n",
      "3\n",
      "c\n",
      "a\n",
      "b\n"
     ]
    }
   ],
   "source": [
    "# traversing a set\n",
    "for i in b:\n",
    "    print(i)"
   ]
  },
  {
   "cell_type": "code",
   "execution_count": 3,
   "metadata": {},
   "outputs": [
    {
     "name": "stdout",
     "output_type": "stream",
     "text": [
      "{'Snapshot', 'Firefight', 'Steelheart', 'Legion'}\n"
     ]
    }
   ],
   "source": [
    "# add function\n",
    "books = set()\n",
    "books.add(\"Legion\")\n",
    "books.add(\"Snapshot\")\n",
    "books.add(\"Steelheart\")\n",
    "books.add(\"Firefight\")\n",
    "print(books)"
   ]
  },
  {
   "cell_type": "code",
   "execution_count": 4,
   "metadata": {},
   "outputs": [
    {
     "name": "stdout",
     "output_type": "stream",
     "text": [
      "{'Elantris', 'Firefight', 'Legion', 'Snapshot', 'Steelheart', 'Mistborn', 'calamity'}\n"
     ]
    }
   ],
   "source": [
    "# adding whole list\n",
    "books.update([\"calamity\",\"Mistborn\",\"Elantris\"])\n",
    "print(books)"
   ]
  },
  {
   "cell_type": "code",
   "execution_count": 5,
   "metadata": {},
   "outputs": [
    {
     "name": "stdout",
     "output_type": "stream",
     "text": [
      "{'Elantris', 'Firefight', 'Legion', 'Snapshot', 'Steelheart', 'calamity'}\n"
     ]
    }
   ],
   "source": [
    "# removing an element\n",
    "books.discard(\"Mistborn\") # discard is better than remove\n",
    "print(books)"
   ]
  },
  {
   "cell_type": "code",
   "execution_count": 6,
   "metadata": {},
   "outputs": [
    {
     "data": {
      "text/plain": [
       "'Elantris'"
      ]
     },
     "execution_count": 6,
     "metadata": {},
     "output_type": "execute_result"
    }
   ],
   "source": [
    "# removes a random element\n",
    "books.pop()"
   ]
  },
  {
   "cell_type": "markdown",
   "metadata": {},
   "source": [
    "# Set Operations"
   ]
  },
  {
   "cell_type": "code",
   "execution_count": 8,
   "metadata": {},
   "outputs": [],
   "source": [
    "a = {1,2,3,4,5}\n",
    "b = {4,5,6,7,8}\n",
    "c = {1,2,3}\n",
    "d = {5.6,7}"
   ]
  },
  {
   "cell_type": "markdown",
   "metadata": {},
   "source": [
    "- `union()` ==> `|`\n",
    "- `intersection()` ==> `&`\n",
    "- `difference()` ==> `-`\n",
    "- `symmetric_difference()` ==> `^`"
   ]
  },
  {
   "cell_type": "code",
   "execution_count": 9,
   "metadata": {},
   "outputs": [
    {
     "name": "stdout",
     "output_type": "stream",
     "text": [
      "intersection\n",
      "{4, 5}\n",
      "{4, 5}\n",
      "difference\n",
      "{1, 2, 3}\n",
      "{1, 2, 3}\n",
      "symmetric difference\n",
      "{1, 2, 3, 6, 7, 8}\n",
      "{1, 2, 3, 6, 7, 8}\n"
     ]
    }
   ],
   "source": [
    "print(\"intersection\")\n",
    "print(a.intersection(b))\n",
    "print(a & b)\n",
    "\n",
    "print(\"difference\")\n",
    "print(a.difference(b))\n",
    "print(a - b)\n",
    "\n",
    "print(\"symmetric difference\")\n",
    "print(a.symmetric_difference(b))\n",
    "print(a ^ b)"
   ]
  },
  {
   "cell_type": "code",
   "execution_count": 10,
   "metadata": {},
   "outputs": [
    {
     "name": "stdout",
     "output_type": "stream",
     "text": [
      "{1, 2, 3, 4, 5}\n",
      "{1, 2, 3}\n",
      "Joined : False\n",
      "disjointed : True\n"
     ]
    }
   ],
   "source": [
    "print(a)\n",
    "print(c)\n",
    "print(\"Joined :\", a.isdisjoint(c))\n",
    "print(\"disjointed :\",a.isdisjoint({11,12}))"
   ]
  },
  {
   "cell_type": "code",
   "execution_count": 12,
   "metadata": {},
   "outputs": [
    {
     "name": "stdout",
     "output_type": "stream",
     "text": [
      "subset : True\n",
      "superset : False\n",
      "superset : False\n"
     ]
    }
   ],
   "source": [
    "print(\"subset :\",c.issubset(a))\n",
    "print(\"superset :\",d.issuperset(c))\n",
    "print(\"superset :\",b.issuperset(d))"
   ]
  },
  {
   "cell_type": "code",
   "execution_count": 13,
   "metadata": {},
   "outputs": [
    {
     "name": "stdout",
     "output_type": "stream",
     "text": [
      "{'f', 'r', 'a', 'e'}\n"
     ]
    }
   ],
   "source": [
    "# WAP that allows users to data as much as they want and then remove duplicates and print unique data.\n",
    "sett = set()\n",
    "while True:\n",
    "    el = input(\"enter the elements :\")\n",
    "    if not el:\n",
    "        break\n",
    "    sett.add(el)\n",
    "print(sett)"
   ]
  },
  {
   "cell_type": "code",
   "execution_count": null,
   "metadata": {},
   "outputs": [],
   "source": []
  }
 ],
 "metadata": {
  "kernelspec": {
   "display_name": "base",
   "language": "python",
   "name": "python3"
  },
  "language_info": {
   "codemirror_mode": {
    "name": "ipython",
    "version": 3
   },
   "file_extension": ".py",
   "mimetype": "text/x-python",
   "name": "python",
   "nbconvert_exporter": "python",
   "pygments_lexer": "ipython3",
   "version": "3.12.4"
  }
 },
 "nbformat": 4,
 "nbformat_minor": 2
}

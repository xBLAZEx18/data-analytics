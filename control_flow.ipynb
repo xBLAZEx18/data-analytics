{
 "cells": [
  {
   "cell_type": "markdown",
   "metadata": {},
   "source": [
    "# Control Flow\n",
    "### condition\n",
    "- if\n",
    "- if else\n",
    "- if elif ladder\n",
    "- match case\n",
    "- nested if\n",
    "### loops\n",
    "- for loop\n",
    "- while loop"
   ]
  },
  {
   "cell_type": "code",
   "execution_count": 1,
   "metadata": {},
   "outputs": [
    {
     "data": {
      "text/plain": [
       "'\\n if expression:\\n    statement 1\\n    statement 2\\n    ....\\n   statement n\\n else:\\n    statement 1\\n    statement 2\\n'"
      ]
     },
     "execution_count": 1,
     "metadata": {},
     "output_type": "execute_result"
    }
   ],
   "source": [
    "# syntax \n",
    "\"\"\"\n",
    " if expression:\n",
    "    statement 1\n",
    "    statement 2\n",
    "    ....\n",
    "   statement n\n",
    " else:\n",
    "    statement 1\n",
    "    statement 2\n",
    "\"\"\""
   ]
  },
  {
   "cell_type": "code",
   "execution_count": 7,
   "metadata": {},
   "outputs": [
    {
     "name": "stdout",
     "output_type": "stream",
     "text": [
      "😋🍿 very nice\n",
      "🐛 no bug here\n",
      "Name exists\n"
     ]
    }
   ],
   "source": [
    "x=10\n",
    "if x>=5:\n",
    "    print(\"😋🍿 very nice\")\n",
    "y=2\n",
    "if x>5 and y<5:\n",
    "    print(\"🐛 no bug here\")\n",
    "name='Samriddhi'\n",
    "if name:\n",
    "    print(\"Name exists\")"
   ]
  },
  {
   "cell_type": "code",
   "execution_count": 8,
   "metadata": {},
   "outputs": [
    {
     "name": "stdout",
     "output_type": "stream",
     "text": [
      "a is not empty\n"
     ]
    }
   ],
   "source": [
    "a='apple'\n",
    "if len(a):\n",
    "    print(\"a is not empty\")\n",
    "else:\n",
    "    print(\"a is empty\")"
   ]
  },
  {
   "cell_type": "markdown",
   "metadata": {},
   "source": [
    "# IF ELIF LADDER"
   ]
  },
  {
   "cell_type": "code",
   "execution_count": 1,
   "metadata": {},
   "outputs": [
    {
     "name": "stdout",
     "output_type": "stream",
     "text": [
      "C is the greatest\n"
     ]
    }
   ],
   "source": [
    "a=5\n",
    "b=2\n",
    "c=10\n",
    "if a>b and a>c:\n",
    "    print(\"A is the greatest\")\n",
    "elif b>a and b>c:\n",
    "    print(\"B is the greatest\")\n",
    "else:\n",
    "    print(\"C is the greatest\")"
   ]
  },
  {
   "cell_type": "code",
   "execution_count": 3,
   "metadata": {},
   "outputs": [
    {
     "name": "stdout",
     "output_type": "stream",
     "text": [
      "Students marks = 85\n",
      "Students grades = B\n"
     ]
    }
   ],
   "source": [
    "marks=int(input(\"Enter your marks:\"))\n",
    "if marks >=90:\n",
    "    grades=\"A\"\n",
    "elif marks >=75:\n",
    "    grades=\"B\"\n",
    "elif marks >=60:\n",
    "    grades=\"C\"\n",
    "elif marks >=50:\n",
    "    grades=\"D\"\n",
    "else:\n",
    "    grades=\"F\"\n",
    "print(f\"Students marks = {marks}\")\n",
    "print(f\"Students grades = {grades}\")"
   ]
  },
  {
   "cell_type": "markdown",
   "metadata": {},
   "source": [
    "# MATCH CASE"
   ]
  },
  {
   "cell_type": "code",
   "execution_count": 13,
   "metadata": {},
   "outputs": [
    {
     "name": "stdout",
     "output_type": "stream",
     "text": [
      "lucknow\n",
      "You are too stupid\n"
     ]
    }
   ],
   "source": [
    "ans = input(\"Whta is the capital of India\")\n",
    "ans = ans.lower()\n",
    "# string fncn to convert the entered statement to lower case\n",
    "print(ans)\n",
    "match ans:\n",
    "    case 'lucknow':\n",
    "        print(\"You are too stupid\")\n",
    "    case 'delhi' | 'Delhi':     \n",
    "        # pipe represets 'OR' and is used for multiple conditions\n",
    "        print(\"Correct answer\")\n",
    "    case 'calcutta':\n",
    "        print(\"You must be living under a stone\")\n",
    "    case 'shimla':\n",
    "        print(\"This is free India\")\n",
    "    case _:\n",
    "        print(\"You are not from India\")"
   ]
  },
  {
   "cell_type": "code",
   "execution_count": 14,
   "metadata": {},
   "outputs": [
    {
     "name": "stdout",
     "output_type": "stream",
     "text": [
      "Chai ki dukaan\n",
      "1. Chai 10 Rs\n",
      "2. Bun Makkhan 30 Rs\n",
      "3. Cutting 5 Rs\n",
      "4. Samosa 10 Rs\n",
      "You have selected Bun Makkhan\n"
     ]
    }
   ],
   "source": [
    "print(\"Chai ki dukaan\")\n",
    "print(\"1. Chai 10 Rs\")\n",
    "print(\"2. Bun Makkhan 30 Rs\")\n",
    "print(\"3. Cutting 5 Rs\")\n",
    "print(\"4. Samosa 10 Rs\")\n",
    "choice = int(input(\"Enter your choice : \"))\n",
    "match choice:\n",
    "    case 1:\n",
    "        print(\"You have selected Chai\")\n",
    "    case 2:\n",
    "        print(\"You have selected Bun Makkhan\")\n",
    "    case 3:\n",
    "        print(\"You have selected Cutting\")\n",
    "    case 4:\n",
    "        print(\"You have selected Samosa\")\n",
    "    case _:\n",
    "        print(\"Invalid Choice\")"
   ]
  },
  {
   "cell_type": "markdown",
   "metadata": {},
   "source": [
    "# LOOPS\n",
    "- step based loop ( for loop )\n",
    "- condition based loop ( while loop )\n",
    "\n",
    "`for loop syntax-----`\n",
    "\n",
    "```python\n",
    "for varname in iterable:\n",
    "    statement 1\n",
    "    statement 2\n",
    "    ...\n",
    "    statement n\n",
    "```\n",
    "\n",
    "`while loop syntax-----`\n",
    "\n",
    "```python\n",
    "while expression:\n",
    "    statement 1\n",
    "    statement 2\n",
    "    ...\n",
    "    statement n\n",
    "```\n"
   ]
  },
  {
   "cell_type": "code",
   "execution_count": 1,
   "metadata": {},
   "outputs": [
    {
     "name": "stdout",
     "output_type": "stream",
     "text": [
      "1\n",
      "2\n",
      "3\n",
      "4\n",
      "5\n"
     ]
    }
   ],
   "source": [
    "numbers=[1,2,3,4,5]\n",
    "for i in numbers:\n",
    "    print(i)"
   ]
  },
  {
   "cell_type": "code",
   "execution_count": 2,
   "metadata": {},
   "outputs": [
    {
     "name": "stdout",
     "output_type": "stream",
     "text": [
      "apple\n",
      "sony\n",
      "lenovo\n",
      "samsung\n"
     ]
    }
   ],
   "source": [
    "brands=['apple','sony','lenovo','samsung']\n",
    "for name in brands:\n",
    "    print(name)"
   ]
  },
  {
   "cell_type": "markdown",
   "metadata": {},
   "source": [
    "# ITERABLES:\n",
    "- list\n",
    "- str\n",
    "- tuple\n",
    "- set\n",
    "- dict\n",
    "- range \n",
    "- generator\n",
    "- lazy objects"
   ]
  },
  {
   "cell_type": "code",
   "execution_count": 3,
   "metadata": {},
   "outputs": [
    {
     "name": "stdout",
     "output_type": "stream",
     "text": [
      "J\n",
      "O\n",
      "U\n",
      "R\n",
      "N\n",
      "E\n",
      "Y\n"
     ]
    }
   ],
   "source": [
    "word='JOURNEY'\n",
    "for i in word:\n",
    "    print(i)"
   ]
  },
  {
   "cell_type": "code",
   "execution_count": 4,
   "metadata": {},
   "outputs": [
    {
     "name": "stdout",
     "output_type": "stream",
     "text": [
      "1\n",
      "2\n",
      "3\n",
      "4\n",
      "5\n",
      "6\n"
     ]
    }
   ],
   "source": [
    "for i in {1,2,3,4,5,6}:\n",
    "    print(i)"
   ]
  },
  {
   "cell_type": "markdown",
   "metadata": {},
   "source": [
    "# RANGE Function:\n",
    "\n",
    "```python\n",
    "range(stop) : 0 to stop-1\n",
    "range(start , stop) : start to stop-1\n",
    "range(start , stop , step) : start to stop-1 with step\n",
    "```"
   ]
  },
  {
   "cell_type": "code",
   "execution_count": 6,
   "metadata": {},
   "outputs": [
    {
     "name": "stdout",
     "output_type": "stream",
     "text": [
      "0 1 2 3 4 5 6 7 8 9 "
     ]
    }
   ],
   "source": [
    "for i in range(10):\n",
    "    print(i , end=' ')"
   ]
  },
  {
   "cell_type": "code",
   "execution_count": 9,
   "metadata": {},
   "outputs": [
    {
     "name": "stdout",
     "output_type": "stream",
     "text": [
      "5 6 7 8 9 10 "
     ]
    }
   ],
   "source": [
    "# range only works with loops\n",
    "for i in range(5,11):\n",
    "    print(i , end=' ')"
   ]
  },
  {
   "cell_type": "code",
   "execution_count": 8,
   "metadata": {},
   "outputs": [
    {
     "name": "stdout",
     "output_type": "stream",
     "text": [
      "10 9 8 7 6 5 4 3 2 1 "
     ]
    }
   ],
   "source": [
    "for i in range(10,0,-1):\n",
    "    print(i , end=' ')"
   ]
  },
  {
   "cell_type": "code",
   "execution_count": 10,
   "metadata": {},
   "outputs": [
    {
     "name": "stdout",
     "output_type": "stream",
     "text": [
      "-5 -4 -3 -2 -1 0 1 2 3 4 5 "
     ]
    }
   ],
   "source": [
    "for i in range(-5,6):\n",
    "    print(i , end=' ')"
   ]
  },
  {
   "cell_type": "code",
   "execution_count": 12,
   "metadata": {},
   "outputs": [
    {
     "name": "stdout",
     "output_type": "stream",
     "text": [
      "5050\n"
     ]
    }
   ],
   "source": [
    "# Sum of all numbers from 1 to 100\n",
    "s=0\n",
    "for i in range(1,101):\n",
    "    s+=i\n",
    "print(s)"
   ]
  },
  {
   "cell_type": "code",
   "execution_count": 14,
   "metadata": {},
   "outputs": [
    {
     "data": {
      "text/plain": [
       "5050"
      ]
     },
     "execution_count": 14,
     "metadata": {},
     "output_type": "execute_result"
    }
   ],
   "source": [
    "# alternative for above code\n",
    "sum(list(range(1,101)))\n",
    "# type casting range to list as range only works in loop"
   ]
  },
  {
   "cell_type": "code",
   "execution_count": 15,
   "metadata": {},
   "outputs": [
    {
     "name": "stdout",
     "output_type": "stream",
     "text": [
      "maniratnam\n"
     ]
    }
   ],
   "source": [
    "# Find the largest word in the list\n",
    "words=['ben','mohan','roy','soham','maniratnam']\n",
    "word=''\n",
    "for i in words:\n",
    "    if len(i) > len(words):\n",
    "        word=i\n",
    "        # print(f\"keeping {item} into word)\n",
    "print(word)"
   ]
  },
  {
   "cell_type": "markdown",
   "metadata": {},
   "source": [
    "# BREAK and CONTINUE features\n"
   ]
  },
  {
   "cell_type": "code",
   "execution_count": 17,
   "metadata": {},
   "outputs": [
    {
     "name": "stdout",
     "output_type": "stream",
     "text": [
      "0 1 2 3 4 \n",
      " The end\n"
     ]
    }
   ],
   "source": [
    "for i in range(10):\n",
    "    if i == 5:\n",
    "        break\n",
    "    print(i , end=' ')\n",
    "print(\"\\n The end\")"
   ]
  },
  {
   "cell_type": "code",
   "execution_count": 24,
   "metadata": {},
   "outputs": [
    {
     "name": "stdout",
     "output_type": "stream",
     "text": [
      "1\n",
      "2\n",
      "3\n",
      "4\n",
      "We found some crap\n"
     ]
    }
   ],
   "source": [
    "data=[1,2,3,4,0,9,8,7,6]\n",
    "for i in data:\n",
    "    if i == 0:\n",
    "        print(\"We found some crap\")\n",
    "        break\n",
    "        # break function terminates the loop\n",
    "    print(i)"
   ]
  },
  {
   "cell_type": "code",
   "execution_count": 23,
   "metadata": {},
   "outputs": [
    {
     "name": "stdout",
     "output_type": "stream",
     "text": [
      "1\n",
      "4\n",
      "9\n",
      "16\n",
      "we found some crap\n",
      "81\n",
      "64\n",
      "49\n",
      "36\n"
     ]
    }
   ],
   "source": [
    "data=[1,2,3,4,0,9,8,7,6]\n",
    "for i in data:\n",
    "    if i == 0:\n",
    "        print(\"we found some crap\")\n",
    "        continue\n",
    "        # continue function skips to next item\n",
    "    print(i**2 )"
   ]
  },
  {
   "cell_type": "markdown",
   "metadata": {},
   "source": [
    "`enumerate()` , `zip()` functions"
   ]
  },
  {
   "cell_type": "code",
   "execution_count": 25,
   "metadata": {},
   "outputs": [
    {
     "name": "stdout",
     "output_type": "stream",
     "text": [
      "0 apple\n",
      "1 banana\n",
      "2 cherry\n",
      "3 mango\n",
      "4 orange\n"
     ]
    }
   ],
   "source": [
    "fruits=['apple','banana','cherry','mango','orange']\n",
    "# enumerate function gives two values first is the index \n",
    "# and other is the data\n",
    "for idx,name in enumerate(fruits):\n",
    "    print(idx , name)"
   ]
  },
  {
   "cell_type": "code",
   "execution_count": 26,
   "metadata": {},
   "outputs": [
    {
     "name": "stdout",
     "output_type": "stream",
     "text": [
      "0\n",
      "3\n",
      "690\n",
      "18\n",
      "2184\n",
      "35\n"
     ]
    }
   ],
   "source": [
    "numbers=[12,3,345,6,546,7]\n",
    "for idx,num in enumerate(numbers):\n",
    "    print(idx*num)"
   ]
  },
  {
   "cell_type": "code",
   "execution_count": 29,
   "metadata": {},
   "outputs": [
    {
     "name": "stdout",
     "output_type": "stream",
     "text": [
      "12\n",
      "24\n",
      "36\n",
      "48\n",
      "60\n"
     ]
    }
   ],
   "source": [
    "x=[1,2,3,4,5]\n",
    "y=[11,22,33,44,55]\n",
    "for i,j in zip(x,y):\n",
    "    print(i+j)"
   ]
  },
  {
   "cell_type": "code",
   "execution_count": 31,
   "metadata": {},
   "outputs": [
    {
     "name": "stdout",
     "output_type": "stream",
     "text": [
      "12\n",
      "15\n",
      "18\n"
     ]
    }
   ],
   "source": [
    "# zip function is used for multiple iterables in \n",
    "# a single loop which is not possible otherwise\n",
    "x=[1,2,3]\n",
    "y=[4,5,6]\n",
    "z=[7,8,9,10]\n",
    "for i,j,k in zip(x,y,z):\n",
    "    print(i+j+k)\n",
    "# the iterables can of either same or different types\n"
   ]
  },
  {
   "cell_type": "code",
   "execution_count": 32,
   "metadata": {},
   "outputs": [
    {
     "name": "stdout",
     "output_type": "stream",
     "text": [
      "7\n"
     ]
    }
   ],
   "source": [
    "# Count the number of vowels in the scentence\n",
    "scentence= \"This is a very good day\"\n",
    "count=0\n",
    "for ch in scentence:\n",
    "    if ch == 'a' or ch == 'e' or ch == 'i' or ch == 'o' or ch == 'u':\n",
    "        count+=1\n",
    "print(count)"
   ]
  },
  {
   "cell_type": "code",
   "execution_count": 34,
   "metadata": {},
   "outputs": [
    {
     "name": "stdout",
     "output_type": "stream",
     "text": [
      "7\n"
     ]
    }
   ],
   "source": [
    "# Alernative for above code\n",
    "scentence= \"This is a very good day\"\n",
    "count=0\n",
    "for ch in scentence:\n",
    "    if ch in 'aeiouAEIOU':\n",
    "        count+=1\n",
    "print(count)"
   ]
  },
  {
   "cell_type": "code",
   "execution_count": null,
   "metadata": {},
   "outputs": [],
   "source": []
  }
 ],
 "metadata": {
  "kernelspec": {
   "display_name": "base",
   "language": "python",
   "name": "python3"
  },
  "language_info": {
   "codemirror_mode": {
    "name": "ipython",
    "version": 3
   },
   "file_extension": ".py",
   "mimetype": "text/x-python",
   "name": "python",
   "nbconvert_exporter": "python",
   "pygments_lexer": "ipython3",
   "version": "3.12.4"
  }
 },
 "nbformat": 4,
 "nbformat_minor": 2
}

{
 "cells": [
  {
   "cell_type": "markdown",
   "metadata": {},
   "source": [
    "# Control Flow\n",
    "### condition\n",
    "- if\n",
    "- if else\n",
    "- if elif ladder\n",
    "- match case\n",
    "- nested if\n",
    "### loops\n",
    "- for loop\n",
    "- while loop"
   ]
  },
  {
   "cell_type": "code",
   "execution_count": 1,
   "metadata": {},
   "outputs": [
    {
     "data": {
      "text/plain": [
       "'\\n if expression:\\n    statement 1\\n    statement 2\\n    ....\\n   statement n\\n else:\\n    statement 1\\n    statement 2\\n'"
      ]
     },
     "execution_count": 1,
     "metadata": {},
     "output_type": "execute_result"
    }
   ],
   "source": [
    "# syntax \n",
    "\"\"\"\n",
    " if expression:\n",
    "    statement 1\n",
    "    statement 2\n",
    "    ....\n",
    "   statement n\n",
    " else:\n",
    "    statement 1\n",
    "    statement 2\n",
    "\"\"\""
   ]
  },
  {
   "cell_type": "code",
   "execution_count": 7,
   "metadata": {},
   "outputs": [
    {
     "name": "stdout",
     "output_type": "stream",
     "text": [
      "😋🍿 very nice\n",
      "🐛 no bug here\n",
      "Name exists\n"
     ]
    }
   ],
   "source": [
    "x=10\n",
    "if x>=5:\n",
    "    print(\"😋🍿 very nice\")\n",
    "y=2\n",
    "if x>5 and y<5:\n",
    "    print(\"🐛 no bug here\")\n",
    "name='Samriddhi'\n",
    "if name:\n",
    "    print(\"Name exists\")"
   ]
  },
  {
   "cell_type": "code",
   "execution_count": 8,
   "metadata": {},
   "outputs": [
    {
     "name": "stdout",
     "output_type": "stream",
     "text": [
      "a is not empty\n"
     ]
    }
   ],
   "source": [
    "a='apple'\n",
    "if len(a):\n",
    "    print(\"a is not empty\")\n",
    "else:\n",
    "    print(\"a is empty\")"
   ]
  },
  {
   "cell_type": "markdown",
   "metadata": {},
   "source": [
    "# IF ELIF LADDER"
   ]
  },
  {
   "cell_type": "code",
   "execution_count": 1,
   "metadata": {},
   "outputs": [
    {
     "name": "stdout",
     "output_type": "stream",
     "text": [
      "C is the greatest\n"
     ]
    }
   ],
   "source": [
    "a=5\n",
    "b=2\n",
    "c=10\n",
    "if a>b and a>c:\n",
    "    print(\"A is the greatest\")\n",
    "elif b>a and b>c:\n",
    "    print(\"B is the greatest\")\n",
    "else:\n",
    "    print(\"C is the greatest\")"
   ]
  },
  {
   "cell_type": "code",
   "execution_count": 3,
   "metadata": {},
   "outputs": [
    {
     "name": "stdout",
     "output_type": "stream",
     "text": [
      "Students marks = 85\n",
      "Students grades = B\n"
     ]
    }
   ],
   "source": [
    "marks=int(input(\"Enter your marks:\"))\n",
    "if marks >=90:\n",
    "    grades=\"A\"\n",
    "elif marks >=75:\n",
    "    grades=\"B\"\n",
    "elif marks >=60:\n",
    "    grades=\"C\"\n",
    "elif marks >=50:\n",
    "    grades=\"D\"\n",
    "else:\n",
    "    grades=\"F\"\n",
    "print(f\"Students marks = {marks}\")\n",
    "print(f\"Students grades = {grades}\")"
   ]
  },
  {
   "cell_type": "markdown",
   "metadata": {},
   "source": [
    "# MATCH CASE"
   ]
  },
  {
   "cell_type": "code",
   "execution_count": 13,
   "metadata": {},
   "outputs": [
    {
     "name": "stdout",
     "output_type": "stream",
     "text": [
      "lucknow\n",
      "You are too stupid\n"
     ]
    }
   ],
   "source": [
    "ans = input(\"Whta is the capital of India\")\n",
    "ans = ans.lower()\n",
    "# string fncn to convert the entered statement to lower case\n",
    "print(ans)\n",
    "match ans:\n",
    "    case 'lucknow':\n",
    "        print(\"You are too stupid\")\n",
    "    case 'delhi' | 'Delhi':     \n",
    "        # pipe represets 'OR' and is used for multiple conditions\n",
    "        print(\"Correct answer\")\n",
    "    case 'calcutta':\n",
    "        print(\"You must be living under a stone\")\n",
    "    case 'shimla':\n",
    "        print(\"This is free India\")\n",
    "    case _:\n",
    "        print(\"You are not from India\")"
   ]
  },
  {
   "cell_type": "code",
   "execution_count": 14,
   "metadata": {},
   "outputs": [
    {
     "name": "stdout",
     "output_type": "stream",
     "text": [
      "Chai ki dukaan\n",
      "1. Chai 10 Rs\n",
      "2. Bun Makkhan 30 Rs\n",
      "3. Cutting 5 Rs\n",
      "4. Samosa 10 Rs\n",
      "You have selected Bun Makkhan\n"
     ]
    }
   ],
   "source": [
    "print(\"Chai ki dukaan\")\n",
    "print(\"1. Chai 10 Rs\")\n",
    "print(\"2. Bun Makkhan 30 Rs\")\n",
    "print(\"3. Cutting 5 Rs\")\n",
    "print(\"4. Samosa 10 Rs\")\n",
    "choice = int(input(\"Enter your choice : \"))\n",
    "match choice:\n",
    "    case 1:\n",
    "        print(\"You have selected Chai\")\n",
    "    case 2:\n",
    "        print(\"You have selected Bun Makkhan\")\n",
    "    case 3:\n",
    "        print(\"You have selected Cutting\")\n",
    "    case 4:\n",
    "        print(\"You have selected Samosa\")\n",
    "    case _:\n",
    "        print(\"Invalid Choice\")"
   ]
  },
  {
   "cell_type": "code",
   "execution_count": null,
   "metadata": {},
   "outputs": [],
   "source": []
  }
 ],
 "metadata": {
  "kernelspec": {
   "display_name": "base",
   "language": "python",
   "name": "python3"
  },
  "language_info": {
   "codemirror_mode": {
    "name": "ipython",
    "version": 3
   },
   "file_extension": ".py",
   "mimetype": "text/x-python",
   "name": "python",
   "nbconvert_exporter": "python",
   "pygments_lexer": "ipython3",
   "version": "3.12.4"
  }
 },
 "nbformat": 4,
 "nbformat_minor": 2
}

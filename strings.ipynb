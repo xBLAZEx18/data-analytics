{
 "cells": [
  {
   "cell_type": "markdown",
   "metadata": {},
   "source": [
    "# STRING\n",
    "- creating\n",
    "- indexing\n",
    "- slicing\n",
    "- methods"
   ]
  },
  {
   "cell_type": "code",
   "execution_count": 1,
   "metadata": {},
   "outputs": [],
   "source": [
    "# creation\n",
    "a = ''           # empty string\n",
    "name = 'Sara'    # single quoted \n",
    "city = \"Lucknow\" # double quoted\n",
    "message = '''this is an example\n",
    "of multiline string in python,\n",
    "triple quotes allow multiline concept'''\n",
    "# for multiline string single or double quotes both can be used\n"
   ]
  },
  {
   "cell_type": "code",
   "execution_count": 2,
   "metadata": {},
   "outputs": [
    {
     "name": "stdout",
     "output_type": "stream",
     "text": [
      "~o~|~o~|~o~|~o~|~o~|~o~|~o~|~o~|~o~|~o~|\n"
     ]
    }
   ],
   "source": [
    "# string duplication\n",
    "decor = \"~o~|\" *10\n",
    "print(decor)"
   ]
  },
  {
   "cell_type": "code",
   "execution_count": 3,
   "metadata": {},
   "outputs": [
    {
     "name": "stdout",
     "output_type": "stream",
     "text": [
      "498463\n",
      "[1, 2, 3]\n",
      "True\n",
      "False\n",
      "541.54185\n"
     ]
    }
   ],
   "source": [
    "# casting\n",
    "a = str(498463)\n",
    "b = str([1,2,3])\n",
    "c = str(True)\n",
    "d = str(False)\n",
    "e = str(541.54185)\n",
    "print(a)\n",
    "print(b)\n",
    "print(c)\n",
    "print(d)\n",
    "print(e)"
   ]
  },
  {
   "cell_type": "markdown",
   "metadata": {},
   "source": [
    "# INDEXING"
   ]
  },
  {
   "cell_type": "code",
   "execution_count": 4,
   "metadata": {},
   "outputs": [
    {
     "name": "stdout",
     "output_type": "stream",
     "text": [
      "SYNCRONIZED\n",
      "11\n",
      "S\n",
      "Y\n",
      "N\n",
      "C\n",
      "R\n",
      "D\n",
      "E\n",
      "Z\n",
      "I\n"
     ]
    }
   ],
   "source": [
    "word = 'SYNCRONIZED'\n",
    "print(word)\n",
    "print(len(word))\n",
    "print(word[0])\n",
    "print(word[1])\n",
    "print(word[2])\n",
    "print(word[3])\n",
    "print(word[4])\n",
    "print(word[-1])\n",
    "print(word[-2])\n",
    "print(word[-3])\n",
    "print(word[-4])"
   ]
  },
  {
   "cell_type": "markdown",
   "metadata": {},
   "source": [
    "# SLICING\n",
    "syntax\n",
    "\n",
    "\n",
    "`var[start : stop]`        - starting index to ending index-1\n",
    "\n",
    "`var[start : stop : step]` - starting index to ending index-1 with step\n",
    "\n",
    "`var[ : stop]`             - start to the ending index-1\n",
    "\n",
    "`var[start : ]`            - starting index to the end \n"
   ]
  },
  {
   "cell_type": "code",
   "execution_count": 5,
   "metadata": {},
   "outputs": [
    {
     "name": "stdout",
     "output_type": "stream",
     "text": [
      "SYNC\n",
      "SYNC\n",
      "ONI\n",
      "RONIZED\n",
      "YCOIE\n",
      "SNRNZ\n",
      "SNRNZD\n",
      "DEZINORCNYS\n"
     ]
    }
   ],
   "source": [
    "print(word[0:4])\n",
    "print(word[:4])\n",
    "print(word[5:8])\n",
    "print(word[4:])\n",
    "print(word[1:10:2])\n",
    "print(word[:10:2])\n",
    "print(word[::2])  # all even indexes\n",
    "print(word[::-1]) # reversed"
   ]
  },
  {
   "cell_type": "code",
   "execution_count": 6,
   "metadata": {},
   "outputs": [
    {
     "name": "stdout",
     "output_type": "stream",
     "text": [
      "Vijay\n",
      "Dheenanath\n",
      "Chauhan\n"
     ]
    }
   ],
   "source": [
    "name=\"Vijay Dheenanath Chauhan\"\n",
    "f_name = name[:5]\n",
    "m_name = name[6:16]\n",
    "l_name = name[17:]\n",
    "print(f_name)\n",
    "print(m_name)\n",
    "print(l_name)"
   ]
  },
  {
   "cell_type": "markdown",
   "metadata": {},
   "source": [
    "# STRING METHODS\n",
    "- formatting\n",
    "- validation\n",
    "- utility"
   ]
  },
  {
   "cell_type": "code",
   "execution_count": 2,
   "metadata": {},
   "outputs": [
    {
     "name": "stdout",
     "output_type": "stream",
     "text": [
      "Original :  Journey before Destination\n",
      "Upper :  JOURNEY BEFORE DESTINATION\n",
      "Lower :  journey before destination\n",
      "Capitalize :  Journey before destination\n",
      "Title :  Journey Before Destination\n",
      "Swapcase :  jOURNEY BEFORE dESTINATION\n",
      "Casefold :  journey before destination\n"
     ]
    }
   ],
   "source": [
    "# formatting\n",
    "quote=\"Journey before Destination\"\n",
    "print(\"Original : \",quote)\n",
    "print(\"Upper : \",quote.upper())\n",
    "print(\"Lower : \",quote.lower())\n",
    "print(\"Capitalize : \",quote.capitalize()) # capitalize the 1st letter of the statement and rest to lowercase\n",
    "print(\"Title : \",quote.title()) # capitalize the 1st letter of every word of the statement and rest to lowercase\n",
    "print(\"Swapcase : \",quote.swapcase()) # all the lowercase to upper and vice versa\n",
    "print(\"Casefold : \",quote.casefold()) # alternative of lower "
   ]
  },
  {
   "cell_type": "code",
   "execution_count": 4,
   "metadata": {},
   "outputs": [
    {
     "name": "stdout",
     "output_type": "stream",
     "text": [
      "Journey before Destination                                                      \n",
      "Journey before Destination______________________________________________________\n",
      "                                                      Journey before Destination\n",
      "______________________________________________________Journey before Destination\n",
      "                           Journey before Destination                           \n",
      "---------------------------Journey before Destination---------------------------\n"
     ]
    }
   ],
   "source": [
    "print(quote.ljust(80)) # left justification\n",
    "print(quote.ljust(80,'_'))\n",
    "print(quote.rjust(80)) # right justification\n",
    "print(quote.rjust(80,'_'))\n",
    "print(quote.center(80)) # center justification \n",
    "print(quote.center(80,'-'))"
   ]
  },
  {
   "cell_type": "code",
   "execution_count": 5,
   "metadata": {},
   "outputs": [
    {
     "name": "stdout",
     "output_type": "stream",
     "text": [
      "True\n",
      "False\n",
      "True\n",
      "False\n",
      "False\n",
      "True\n",
      "True\n",
      "True\n",
      "False\n",
      "False\n",
      "True\n",
      "True\n",
      "False\n"
     ]
    }
   ],
   "source": [
    "# validation\n",
    "print('123'.isdigit()) # check if number or not\n",
    "print('1 23'.isdigit()) # false, since space is not a number\n",
    "print('apple'.isalpha()) # check if alphabet or not\n",
    "print('1apple'.isalpha()) # false, since 1 is not an alphabet\n",
    "print('apple pie'.isalpha()) # false, since space is not an alphabet\n",
    "print('apple123'.isalnum()) # check if alphanumeric or not\n",
    "print('123'.isalnum())\n",
    "print('cherry'.isalnum())\n",
    "print('cherry 123'.isalnum()) # false, since space is neither digit nor alphabet\n",
    "print('cherry 123'.isnumeric()) # alternative for isdigit\n",
    "print('123'.isnumeric()) \n",
    "print(' '.isspace()) # checks for only space , if anything else then false\n",
    "print(' 1 3 2 '.isspace()) "
   ]
  },
  {
   "cell_type": "code",
   "execution_count": 9,
   "metadata": {},
   "outputs": [
    {
     "name": "stdout",
     "output_type": "stream",
     "text": [
      "Shabaash 657496846521\n"
     ]
    }
   ],
   "source": [
    "digit=input(\"enter a number : \")\n",
    "num=0\n",
    "if digit.isdigit():\n",
    "    num=int(digit)\n",
    "    print(f\"Shabaash {num}\")\n",
    "else:\n",
    "    print(\"Go to kinder garted\")\n"
   ]
  },
  {
   "cell_type": "code",
   "execution_count": 10,
   "metadata": {},
   "outputs": [
    {
     "name": "stdout",
     "output_type": "stream",
     "text": [
      "True\n",
      "False\n",
      "False\n",
      "True\n",
      "True\n",
      "True\n",
      "False\n"
     ]
    }
   ],
   "source": [
    "print('apple'.startswith(\"a\"))\n",
    "print('apple'.startswith(\"A\"))\n",
    "print('apple'.startswith(\"b\"))\n",
    "print('apple'.endswith(\"e\"))\n",
    "print('book.pdf'.endswith(\"pdf\"))\n",
    "print('book_one.pdf'.startswith(\"book\"))\n",
    "print('book_one.pdf'.startswith(\"one\"))"
   ]
  },
  {
   "cell_type": "code",
   "execution_count": 11,
   "metadata": {},
   "outputs": [
    {
     "name": "stdout",
     "output_type": "stream",
     "text": [
      "a.exe\n",
      "b.exe\n",
      "d.exe\n",
      "3\n"
     ]
    }
   ],
   "source": [
    "apps=['a.exe','b.exe','c.pdf','d.exe','e.doc','f.doc']\n",
    "count=0\n",
    "for name in apps:\n",
    "    if name.endswith('.exe'):\n",
    "        print(name)\n",
    "        count+=1\n",
    "print(count)"
   ]
  },
  {
   "cell_type": "code",
   "execution_count": 3,
   "metadata": {},
   "outputs": [
    {
     "name": "stdout",
     "output_type": "stream",
     "text": [
      "1\n",
      "8\n",
      "4\n",
      "0\n",
      "20\n",
      "4\n",
      "4\n",
      "10\n",
      "-1\n"
     ]
    }
   ],
   "source": [
    "# utility - find , replace , count , strip , split , join\n",
    "print(quote.find('o')) # this fucntion is a case sensitive fucntion\n",
    "print(quote.find('before'))\n",
    "print(quote.find('n'))\n",
    "print(quote.find('J'))\n",
    "print(quote.find('n',5)) # start searching for the n from the 5th index till last\n",
    "print(quote.find('n',1,10)) # start searching for the n from the 1st index till 10th\n",
    "print(quote.find('n',))\n",
    "print(quote.find('fore De'))\n",
    "print(quote.find('foreDe')) # since not present so -1"
   ]
  },
  {
   "cell_type": "code",
   "execution_count": 13,
   "metadata": {},
   "outputs": [
    {
     "name": "stdout",
     "output_type": "stream",
     "text": [
      "Journey after Destination\n",
      "Journay bafora Dastination\n",
      "Journay bafore Destination\n",
      "Journ___y b___for___ D___stination\n",
      "Journ_y b_for_ D_st_n_t_on\n"
     ]
    }
   ],
   "source": [
    "quote=\"Journey before Destination\"\n",
    "print(quote.replace(\"before\",\"after\"))\n",
    "print(quote.replace(\"e\",\"a\"))\n",
    "print(quote.replace(\"e\",\"a\",2)) # only 2 times 'e' will be changed\n",
    "print(quote.replace(\"e\",\"___\"))\n",
    "print(quote.replace(\"e\",\"_\").replace(\"a\",\"_\").replace(\"i\",\"_\"))"
   ]
  },
  {
   "cell_type": "code",
   "execution_count": 14,
   "metadata": {},
   "outputs": [
    {
     "name": "stdout",
     "output_type": "stream",
     "text": [
      "5\n",
      "3\n",
      "1\n",
      "0\n",
      "3\n",
      "10\n"
     ]
    }
   ],
   "source": [
    "words=\"egg spam egg egg spam egg spam bacon egg\"\n",
    "print(words.count(\"egg\"))\n",
    "print(words.count(\"spam\"))\n",
    "print(words.count(\"bacon\"))\n",
    "print(words.count(\"pie\"))\n",
    "print(words.count(\"egg s\"))\n",
    "print(words.count(\"g\"))"
   ]
  },
  {
   "cell_type": "code",
   "execution_count": 15,
   "metadata": {},
   "outputs": [
    {
     "name": "stdout",
     "output_type": "stream",
     "text": [
      " Alex Mason \n",
      "Alex Mason\n",
      "\n",
      "     456789\n",
      "\n",
      "456789\n"
     ]
    }
   ],
   "source": [
    "name = ' Alex Mason '\n",
    "print(name)\n",
    "print(name.strip())\n",
    "data = '''\n",
    "     456789\n",
    "'''\n",
    "print(data)\n",
    "print(data.strip())"
   ]
  },
  {
   "cell_type": "code",
   "execution_count": 16,
   "metadata": {},
   "outputs": [
    {
     "name": "stdout",
     "output_type": "stream",
     "text": [
      "['egg', 'spam', 'egg', 'egg', 'spam', 'egg', 'spam', 'bacon', 'egg']\n",
      "['a', 'b', 'c', 'd', 'e']\n",
      "['a,b,c,d,e']\n",
      "['johny johny, yes papa,', 'eating sugar?, no papa,', 'telling lies?, no papa,', 'open your mouth, ha! ha! ha!']\n"
     ]
    }
   ],
   "source": [
    "print(words.split())\n",
    "print(\"a,b,c,d,e\".split(','))\n",
    "print(\"a,b,c,d,e\".split('-'))\n",
    "poem='''\n",
    "johny johny, yes papa,\n",
    "eating sugar?, no papa,\n",
    "telling lies?, no papa,\n",
    "open your mouth, ha! ha! ha!\n",
    "'''\n",
    "scentence=poem.strip().splitlines()\n",
    "print(scentence)"
   ]
  },
  {
   "cell_type": "code",
   "execution_count": 17,
   "metadata": {},
   "outputs": [
    {
     "name": "stdout",
     "output_type": "stream",
     "text": [
      "192.168.1.1\n"
     ]
    }
   ],
   "source": [
    "addr=['192','168','1','1'] # list of string\n",
    "ip_addr=\".\".join(addr)\n",
    "print(ip_addr)"
   ]
  },
  {
   "cell_type": "code",
   "execution_count": null,
   "metadata": {},
   "outputs": [],
   "source": []
  }
 ],
 "metadata": {
  "kernelspec": {
   "display_name": "base",
   "language": "python",
   "name": "python3"
  },
  "language_info": {
   "codemirror_mode": {
    "name": "ipython",
    "version": 3
   },
   "file_extension": ".py",
   "mimetype": "text/x-python",
   "name": "python",
   "nbconvert_exporter": "python",
   "pygments_lexer": "ipython3",
   "version": "3.12.4"
  }
 },
 "nbformat": 4,
 "nbformat_minor": 2
}

{
 "cells": [
  {
   "cell_type": "markdown",
   "metadata": {},
   "source": [
    "# STRING\n",
    "- creating\n",
    "- indexing\n",
    "- slicing\n",
    "- methods"
   ]
  },
  {
   "cell_type": "code",
   "execution_count": 1,
   "metadata": {},
   "outputs": [],
   "source": [
    "# creation\n",
    "a = ''           # empty string\n",
    "name = 'Sara'    # single quoted \n",
    "city = \"Lucknow\" # double quoted\n",
    "message = '''this is an example\n",
    "of multiline string in python,\n",
    "triple quotes allow multiline concept'''\n",
    "# for multiline string single or double quotes both can be used\n"
   ]
  },
  {
   "cell_type": "code",
   "execution_count": 2,
   "metadata": {},
   "outputs": [
    {
     "name": "stdout",
     "output_type": "stream",
     "text": [
      "~o~|~o~|~o~|~o~|~o~|~o~|~o~|~o~|~o~|~o~|\n"
     ]
    }
   ],
   "source": [
    "# string duplication\n",
    "decor = \"~o~|\" *10\n",
    "print(decor)"
   ]
  },
  {
   "cell_type": "code",
   "execution_count": 3,
   "metadata": {},
   "outputs": [
    {
     "name": "stdout",
     "output_type": "stream",
     "text": [
      "498463\n",
      "[1, 2, 3]\n",
      "True\n",
      "False\n",
      "541.54185\n"
     ]
    }
   ],
   "source": [
    "# casting\n",
    "a = str(498463)\n",
    "b = str([1,2,3])\n",
    "c = str(True)\n",
    "d = str(False)\n",
    "e = str(541.54185)\n",
    "print(a)\n",
    "print(b)\n",
    "print(c)\n",
    "print(d)\n",
    "print(e)"
   ]
  },
  {
   "cell_type": "markdown",
   "metadata": {},
   "source": [
    "# INDEXING"
   ]
  },
  {
   "cell_type": "code",
   "execution_count": 4,
   "metadata": {},
   "outputs": [
    {
     "name": "stdout",
     "output_type": "stream",
     "text": [
      "SYNCRONIZED\n",
      "11\n",
      "S\n",
      "Y\n",
      "N\n",
      "C\n",
      "R\n",
      "D\n",
      "E\n",
      "Z\n",
      "I\n"
     ]
    }
   ],
   "source": [
    "word = 'SYNCRONIZED'\n",
    "print(word)\n",
    "print(len(word))\n",
    "print(word[0])\n",
    "print(word[1])\n",
    "print(word[2])\n",
    "print(word[3])\n",
    "print(word[4])\n",
    "print(word[-1])\n",
    "print(word[-2])\n",
    "print(word[-3])\n",
    "print(word[-4])"
   ]
  },
  {
   "cell_type": "markdown",
   "metadata": {},
   "source": [
    "# SLICING\n",
    "syntax\n",
    "\n",
    "\n",
    "`var[start : stop]`        - starting index to ending index-1\n",
    "\n",
    "`var[start : stop : step]` - starting index to ending index-1 with step\n",
    "\n",
    "`var[ : stop]`             - start to the ending index-1\n",
    "\n",
    "`var[start : ]`            - starting index to the end \n"
   ]
  },
  {
   "cell_type": "code",
   "execution_count": 5,
   "metadata": {},
   "outputs": [
    {
     "name": "stdout",
     "output_type": "stream",
     "text": [
      "SYNC\n",
      "SYNC\n",
      "ONI\n",
      "RONIZED\n",
      "YCOIE\n",
      "SNRNZ\n",
      "SNRNZD\n",
      "DEZINORCNYS\n"
     ]
    }
   ],
   "source": [
    "print(word[0:4])\n",
    "print(word[:4])\n",
    "print(word[5:8])\n",
    "print(word[4:])\n",
    "print(word[1:10:2])\n",
    "print(word[:10:2])\n",
    "print(word[::2])  # all even indexes\n",
    "print(word[::-1]) # reversed"
   ]
  },
  {
   "cell_type": "code",
   "execution_count": 6,
   "metadata": {},
   "outputs": [
    {
     "name": "stdout",
     "output_type": "stream",
     "text": [
      "Vijay\n",
      "Dheenanath\n",
      "Chauhan\n"
     ]
    }
   ],
   "source": [
    "name=\"Vijay Dheenanath Chauhan\"\n",
    "f_name = name[:5]\n",
    "m_name = name[6:16]\n",
    "l_name = name[17:]\n",
    "print(f_name)\n",
    "print(m_name)\n",
    "print(l_name)"
   ]
  },
  {
   "cell_type": "code",
   "execution_count": null,
   "metadata": {},
   "outputs": [],
   "source": []
  }
 ],
 "metadata": {
  "kernelspec": {
   "display_name": "base",
   "language": "python",
   "name": "python3"
  },
  "language_info": {
   "codemirror_mode": {
    "name": "ipython",
    "version": 3
   },
   "file_extension": ".py",
   "mimetype": "text/x-python",
   "name": "python",
   "nbconvert_exporter": "python",
   "pygments_lexer": "ipython3",
   "version": "3.12.4"
  }
 },
 "nbformat": 4,
 "nbformat_minor": 2
}

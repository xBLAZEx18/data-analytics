{
 "cells": [
  {
   "cell_type": "markdown",
   "metadata": {},
   "source": [
    "# FUNCTIONS\n",
    "\n",
    "1. predefined functions\n",
    "    - built-in functions (directly functions)\n",
    "    - module functions (need to import)\n",
    "        - python standard library\n",
    "        - 3rd party library( `pip installed library` )\n",
    "2. user-defined functions\n",
    "    - non parameterized\n",
    "    - function with return type\n",
    "    - parameterized\n",
    "        - required parameter\n",
    "        - named parameter\n",
    "        - default parameter\n",
    "        - varaible length argument\n",
    "        - keywords varaible length argument\n",
    "    - anonymous function ( lambda function )\n",
    "    - generator function"
   ]
  },
  {
   "cell_type": "code",
   "execution_count": 34,
   "metadata": {},
   "outputs": [
    {
     "name": "stdout",
     "output_type": "stream",
     "text": [
      "Help on built-in function max in module builtins:\n",
      "\n",
      "max(...)\n",
      "    max(iterable, *[, default=obj, key=func]) -> value\n",
      "    max(arg1, arg2, *args, *[, key=func]) -> value\n",
      "\n",
      "    With a single iterable argument, return its biggest item. The\n",
      "    default keyword-only argument specifies an object to return if\n",
      "    the provided iterable is empty.\n",
      "    With two or more arguments, return the largest argument.\n",
      "\n"
     ]
    }
   ],
   "source": [
    "# built-in functions\n",
    "help(max)   # tells you about any function"
   ]
  },
  {
   "cell_type": "code",
   "execution_count": 35,
   "metadata": {},
   "outputs": [
    {
     "data": {
      "text/plain": [
       "5"
      ]
     },
     "execution_count": 35,
     "metadata": {},
     "output_type": "execute_result"
    }
   ],
   "source": [
    "eval(\"2+3\")   # solves any given equation"
   ]
  },
  {
   "cell_type": "code",
   "execution_count": 36,
   "metadata": {},
   "outputs": [
    {
     "data": {
      "text/plain": [
       "45"
      ]
     },
     "execution_count": 36,
     "metadata": {},
     "output_type": "execute_result"
    }
   ],
   "source": [
    "x = 5\n",
    "eq = input(\"give me an equation fo x\")\n",
    "eval(eq)"
   ]
  },
  {
   "cell_type": "markdown",
   "metadata": {},
   "source": [
    "`open()` for file handling"
   ]
  },
  {
   "cell_type": "code",
   "execution_count": 37,
   "metadata": {},
   "outputs": [
    {
     "name": "stdout",
     "output_type": "stream",
     "text": [
      "{\n",
      " \"cells\": [\n",
      "  {\n",
      "   \"cell_type\": \"markdown\",\n",
      "   \"metadata\": {},\n",
      "   \"source\": [\n",
      "    \"# Data Structure - DICTIONARY\\n\",\n",
      "    \"\\n\",\n",
      "    \"- ordered\\n\",\n",
      "    \"- mutable\\n\",\n",
      "    \"- key-value pairs\\n\",\n",
      "    \"- keys are unique\\n\",\n",
      "    \"- values can be of any data type\\n\",\n",
      "    \"- keys should be immutable ( `int()` , `float()` , `string()` , `tuple()`)\\n\",\n",
      "    \"- keys are case sensitive\\n\",\n",
      "    \"- represented with `{ }`\\n\",\n",
      "    \"- `dict()` is used to make dictionary\"\n",
      "   ]\n",
      "  },\n",
      "  {\n",
      "   \"cell_type\": \"code\",\n",
      "   \"execution_count\": 1,\n",
      "   \"metadata\": {},\n",
      "   \"outputs\": [\n",
      "    {\n",
      "     \"name\": \"stdout\",\n",
      "     \"output_type\": \"stream\",\n",
      "     \"text\": [\n",
      "      \"{} {'apples': 50, 'oranges': 25} {'almond': 200, 'cashew': 100}\\n\"\n",
      "     ]\n",
      "    }\n",
      "   ],\n",
      "   \"source\": [\n",
      "    \"a = {} # empty dictionary\\n\",\n",
      "    \"b = {\\n\",\n",
      "    \"    'apples': 50,\\n\",\n",
      "    \"    'oranges': 25\\n\",\n",
      "    \"}\\n\",\n",
      "    \"c = dict(almond = 200, cashew = 100)\\n\",\n",
      "    \"print(a,b,c)\"\n",
      "   ]\n",
      "  },\n",
      "  {\n",
      "   \"cell_type\": \"code\",\n",
      "   \"execution_count\": 2,\n",
      "   \"metadata\": {},\n",
      "   \"outputs\": [\n",
      "    {\n",
      "     \"name\": \"stdout\",\n",
      "     \"output_type\": \"stream\",\n",
      "     \"text\": [\n",
      "      \"{'k1': {'k11': 5, 'k12': 10}, 'k2': {'k21': 15, 'k22': 20}}\\n\"\n",
      "     ]\n",
      "    }\n",
      "   ],\n",
      "   \"source\": [\n",
      "    \"# nested dictionary\\n\",\n",
      "    \"d = {\\n\",\n",
      "    \"    \\\"k1\\\":{\\n\",\n",
      "    \"        \\\"k11\\\": 5,\\n\",\n",
      "    \"        \\\"k12\\\": 10\\n\",\n",
      "    \"    },\\n\",\n",
      "    \"    \\\"k2\\\":{\\n\",\n",
      "    \"        \\\"k21\\\": 15,\\n\",\n",
      "    \"        \\\"k22\\\": 20\\n\",\n",
      "    \"    }\\n\",\n",
      "    \"}\\n\",\n",
      "    \"print(d)\"\n",
      "   ]\n",
      "  },\n",
      "  {\n",
      "   \"cell_type\": \"code\",\n",
      "   \"execution_count\": 3,\n",
      "   \"metadata\": {},\n",
      "   \"outputs\": [\n",
      "    {\n",
      "     \"name\": \"stdout\",\n",
      "     \"output_type\": \"stream\",\n",
      "     \"text\": [\n",
      "      \"50\\n\",\n",
      "      \"None\\n\",\n",
      "      \"not found\\n\",\n",
      "      \"50\\n\"\n",
      "     ]\n",
      "    }\n",
      "   ],\n",
      "   \"source\": [\n",
      "    \"print(b['apples'])  # direct access\\n\",\n",
      "    \"# print(b['apple']) -- `this gives error`\\n\",\n",
      "    \"print(b.get('apple'))\\n\",\n",
      "    \"print(b.get('apple','not found'))    # default value\\n\",\n",
      "    \"print(b.get('apples'))\"\n",
      "   ]\n",
      "  },\n",
      "  {\n",
      "   \"cell_type\": \"code\",\n",
      "   \"execution_count\": 4,\n",
      "   \"metadata\": {},\n",
      "   \"outputs\": [\n",
      "    {\n",
      "     \"name\": \"stdout\",\n",
      "     \"output_type\": \"stream\",\n",
      "     \"text\": [\n",
      "      \"{'apples': 50, 'oranges': 25, 'mango': 10, 'dates': 5, 'peach': 15}\\n\"\n",
      "     ]\n",
      "    }\n",
      "   ],\n",
      "   \"source\": [\n",
      "    \"# add/update values\\n\",\n",
      "    \"b['mango'] = 10 # adding values\\n\",\n",
      "    \"b['dates'] = 5\\n\",\n",
      "    \"b['peach'] = 15\\n\",\n",
      "    \"b['apples'] = 50 # updating existing value\\n\",\n",
      "    \"print(b)\"\n",
      "   ]\n",
      "  },\n",
      "  {\n",
      "   \"cell_type\": \"code\",\n",
      "   \"execution_count\": 5,\n",
      "   \"metadata\": {},\n",
      "   \"outputs\": [\n",
      "    {\n",
      "     \"name\": \"stdout\",\n",
      "     \"output_type\": \"stream\",\n",
      "     \"text\": [\n",
      "      \"{'apples': 50, 'oranges': 25, 'dates': 5, 'peach': 15}\\n\"\n",
      "     ]\n",
      "    }\n",
      "   ],\n",
      "   \"source\": [\n",
      "    \"# remove\\n\",\n",
      "    \"b.pop('mango')\\n\",\n",
      "    \"print(b)\"\n",
      "   ]\n",
      "  },\n",
      "  {\n",
      "   \"cell_type\": \"code\",\n",
      "   \"execution_count\": 6,\n",
      "   \"metadata\": {},\n",
      "   \"outputs\": [\n",
      "    {\n",
      "     \"name\": \"stdout\",\n",
      "     \"output_type\": \"stream\",\n",
      "     \"text\": [\n",
      "      \"apples 50\\n\",\n",
      "      \"oranges 25\\n\",\n",
      "      \"dates 5\\n\",\n",
      "      \"peach 15\\n\",\n",
      "      \"apples 50\\n\",\n",
      "      \"oranges 25\\n\",\n",
      "      \"dates 5\\n\",\n",
      "      \"peach 15\\n\",\n",
      "      \"50\\n\",\n",
      "      \"25\\n\",\n",
      "      \"5\\n\",\n",
      "      \"15\\n\"\n",
      "     ]\n",
      "    }\n",
      "   ],\n",
      "   \"source\": [\n",
      "    \"# traversal \\n\",\n",
      "    \"# style 1\\n\",\n",
      "    \"for key in b:\\n\",\n",
      "    \"    print(key , b[key])\\n\",\n",
      "    \"\\n\",\n",
      "    \"# style 2\\n\",\n",
      "    \"for k,v in b.items():\\n\",\n",
      "    \"    print(k,v)\\n\",\n",
      "    \"\\n\",\n",
      "    \"# style 3\\n\",\n",
      "    \"for v in b.values():\\n\",\n",
      "    \"    print(v)\"\n",
      "   ]\n",
      "  },\n",
      "  {\n",
      "   \"cell_type\": \"code\",\n",
      "   \"execution_count\": 7,\n",
      "   \"metadata\": {},\n",
      "   \"outputs\": [\n",
      "    {\n",
      "     \"name\": \"stdout\",\n",
      "     \"output_type\": \"stream\",\n",
      "     \"text\": [\n",
      "      \"dict_keys(['apples', 'oranges', 'dates', 'peach'])\\n\"\n",
      "     ]\n",
      "    }\n",
      "   ],\n",
      "   \"source\": [\n",
      "    \"print(b.keys())\"\n",
      "   ]\n",
      "  },\n",
      "  {\n",
      "   \"cell_type\": \"code\",\n",
      "   \"execution_count\": null,\n",
      "   \"metadata\": {},\n",
      "   \"outputs\": [],\n",
      "   \"source\": []\n",
      "  }\n",
      " ],\n",
      " \"metadata\": {\n",
      "  \"kernelspec\": {\n",
      "   \"display_name\": \"base\",\n",
      "   \"language\": \"python\",\n",
      "   \"name\": \"python3\"\n",
      "  },\n",
      "  \"language_info\": {\n",
      "   \"codemirror_mode\": {\n",
      "    \"name\": \"ipython\",\n",
      "    \"version\": 3\n",
      "   },\n",
      "   \"file_extension\": \".py\",\n",
      "   \"mimetype\": \"text/x-python\",\n",
      "   \"name\": \"python\",\n",
      "   \"nbconvert_exporter\": \"python\",\n",
      "   \"pygments_lexer\": \"ipython3\",\n",
      "   \"version\": \"3.12.4\"\n",
      "  }\n",
      " },\n",
      " \"nbformat\": 4,\n",
      " \"nbformat_minor\": 2\n",
      "}\n",
      "\n"
     ]
    }
   ],
   "source": [
    "print(open('dictionary.ipynb').read())   # opens the mentioned file and read the data and then print it"
   ]
  },
  {
   "cell_type": "code",
   "execution_count": 38,
   "metadata": {},
   "outputs": [
    {
     "name": "stdout",
     "output_type": "stream",
     "text": [
      "story = ''\n",
      "while True:\n",
      "    line = input(\">>> \")\n",
      "    if not line:\n",
      "        print(\"~The end~\")\n",
      "        break\n",
      "    story+=line + '\\n'\n",
      "print(f'Your story\\n {story}')\n"
     ]
    }
   ],
   "source": [
    "with open('story.py') as file:\n",
    "    content = file.read()\n",
    "    print(content)"
   ]
  },
  {
   "cell_type": "code",
   "execution_count": 39,
   "metadata": {},
   "outputs": [],
   "source": [
    "with open('story.txt','w') as f:   # 'w' refers to write mode\n",
    "    f.write(\"Once upon a time in a land far far away\\n\")\n",
    "    f.write(\"There lived a king who was a good king\\n\")\n",
    "    f.write(\"He was loved by all his subjects\\n\")"
   ]
  },
  {
   "cell_type": "code",
   "execution_count": 40,
   "metadata": {},
   "outputs": [],
   "source": [
    "with open('story.txt','a') as f:   # 'a' refers to append mode\n",
    "    f.write(\"But he had a secret\\n\")\n",
    "    f.write(\"He was a wizard\\n\")\n",
    "    f.write(\"He could do magic\\n\")"
   ]
  },
  {
   "cell_type": "code",
   "execution_count": 41,
   "metadata": {},
   "outputs": [
    {
     "name": "stdout",
     "output_type": "stream",
     "text": [
      "Once upon a time in a land far far away\n",
      "There lived a king who was a good king\n",
      "He was loved by all his subjects\n",
      "But he had a secret\n",
      "He was a wizard\n",
      "He could do magic\n",
      "\n"
     ]
    }
   ],
   "source": [
    "with open('story.txt') as f:\n",
    "    content = f.read()\n",
    "    print(content)"
   ]
  },
  {
   "cell_type": "markdown",
   "metadata": {},
   "source": [
    "# Python Standard Library"
   ]
  },
  {
   "cell_type": "code",
   "execution_count": 42,
   "metadata": {},
   "outputs": [
    {
     "name": "stdout",
     "output_type": "stream",
     "text": [
      "9\n",
      "7\n",
      "1\n",
      "10\n",
      "9\n",
      "6\n",
      "1\n",
      "5\n",
      "2\n",
      "7\n"
     ]
    }
   ],
   "source": [
    "import random\n",
    "\n",
    "for i in range(10):\n",
    "    ans = random.randint(1,10)    # 1<= x=, 10\n",
    "    print(ans)"
   ]
  },
  {
   "cell_type": "code",
   "execution_count": 43,
   "metadata": {},
   "outputs": [
    {
     "name": "stdout",
     "output_type": "stream",
     "text": [
      "apple\n",
      "apple\n",
      "apple\n",
      "cherry\n",
      "cherry\n",
      "banana\n",
      "cherry\n",
      "banana\n",
      "banana\n",
      "cherry\n"
     ]
    }
   ],
   "source": [
    "fruits = ['apple','banana','cherry']\n",
    "for i in range(10):\n",
    "    print(random.choice(fruits))"
   ]
  },
  {
   "cell_type": "code",
   "execution_count": 45,
   "metadata": {},
   "outputs": [
    {
     "name": "stdout",
     "output_type": "stream",
     "text": [
      "[3, 3, 9]\n",
      "[8, 3, 6]\n",
      "[2, 4, 7, 1, 5, 10, 9, 6, 8, 3]\n",
      "[3, 4, 2, 6, 9, 10, 7, 1, 5, 8]\n"
     ]
    }
   ],
   "source": [
    "x = [1,2,3,4,5,6,7,8,9,10]\n",
    "print(random.choices(x,k = 3))  # value repeats and the range(value of k) can be any\n",
    "print(random.choices(x,k = 3)) # value does not repeat and the range(value of k) cannot be greater than the length of the list mentioned\n",
    "print(random.sample(x,k = 10)) \n",
    "random.shuffle(x)\n",
    "print(x)"
   ]
  },
  {
   "cell_type": "code",
   "execution_count": 46,
   "metadata": {},
   "outputs": [],
   "source": [
    "# from `library` import `function`\n",
    "from datetime import datetime"
   ]
  },
  {
   "cell_type": "code",
   "execution_count": 49,
   "metadata": {},
   "outputs": [
    {
     "name": "stdout",
     "output_type": "stream",
     "text": [
      "2012-12-12 00:00:00\n",
      "1970-01-01 10:05:00\n",
      "2024-08-27 20:42:17.223485\n",
      "1724771537.223485\n",
      "2266-04-02 08:33:12\n",
      "2024-12-05 20:42:17.223485\n",
      "2024-08-27\n",
      "20:42:17.223485\n",
      "27/08/2024\n",
      "20:42\n"
     ]
    }
   ],
   "source": [
    "# 12/12/2012\n",
    "doomsday = datetime(2012, 12, 12)\n",
    "print(doomsday)\n",
    "# 10:05\n",
    "time = datetime(1970 ,1 ,1 ,10 ,5)\n",
    "print(time)\n",
    "\n",
    "currday= datetime.now()\n",
    "print(currday)\n",
    "timestamp = datetime.timestamp(currday)\n",
    "print(timestamp)   # seconds since epoch (1970)\n",
    "print(datetime.fromtimestamp(9348750192))\n",
    "\n",
    "from datetime import timedelta\n",
    "\n",
    "today = datetime.now()\n",
    "print(today + timedelta(days=100))\n",
    "\n",
    "# formatted time\n",
    "print(today.date())\n",
    "print(today.time())\n",
    "\n",
    "#strftime\n",
    "print(today.strftime(\"%d/%m/%Y\"))\n",
    "print(today.strftime(\"%H:%M\"))"
   ]
  },
  {
   "cell_type": "code",
   "execution_count": 50,
   "metadata": {},
   "outputs": [
    {
     "name": "stdout",
     "output_type": "stream",
     "text": [
      "c:\\Users\\user\\Documents\\data analytics\n"
     ]
    }
   ],
   "source": [
    "# os module\n",
    "import os\n",
    "BASE_DIR = (os.getcwd())\n",
    "print(BASE_DIR)"
   ]
  },
  {
   "cell_type": "code",
   "execution_count": 51,
   "metadata": {},
   "outputs": [
    {
     "name": "stdout",
     "output_type": "stream",
     "text": [
      "['.git', 'basics.ipynb', 'control_flow.ipynb', 'dictionary.ipynb', 'functions.ipynb', 'hello.py', 'laptop.txt', 'lists.ipynb', 'new_laptop.txt', 'old_laptop.txt', 'registration.py', 'sets.ipynb', 'story.py', 'story.txt', 'strings.ipynb', 'test.ipynb', 'tuple.ipynb']\n"
     ]
    }
   ],
   "source": [
    "print(os.listdir())"
   ]
  },
  {
   "cell_type": "code",
   "execution_count": 52,
   "metadata": {},
   "outputs": [
    {
     "name": "stdout",
     "output_type": "stream",
     "text": [
      "['.git', 'basics.ipynb', 'control_flow.ipynb', 'dictionary.ipynb', 'functions.ipynb', 'hello.py', 'laptop.txt', 'lists.ipynb', 'new_laptop.txt', 'old_laptop.txt', 'registration.py', 'sets.ipynb', 'story.py', 'strings.ipynb', 'test.ipynb', 'tuple.ipynb']\n"
     ]
    }
   ],
   "source": [
    "# delete file\n",
    "os.unlink('story.txt')\n",
    "print(os.listdir())"
   ]
  },
  {
   "cell_type": "code",
   "execution_count": 74,
   "metadata": {},
   "outputs": [
    {
     "name": "stdout",
     "output_type": "stream",
     "text": [
      "Total content is 48\n"
     ]
    }
   ],
   "source": [
    "content = os.listdir(\"C:/program files\")\n",
    "print(f\"Total content is {len(content)}\")"
   ]
  },
  {
   "cell_type": "code",
   "execution_count": 82,
   "metadata": {},
   "outputs": [
    {
     "name": "stdout",
     "output_type": "stream",
     "text": [
      "Total content is 178\n"
     ]
    }
   ],
   "source": [
    "content = os.listdir(\"C:/Users/user/downloads\")\n",
    "print(f\"Total content is {len(content)}\")"
   ]
  },
  {
   "cell_type": "code",
   "execution_count": 83,
   "metadata": {},
   "outputs": [
    {
     "name": "stdout",
     "output_type": "stream",
     "text": [
      "10689.12556 (1).pdf                                False\n",
      "123_s78RxkQU.mp4                                   False\n",
      "1685465846575.jpg                                  False\n",
      "1685465846575.png                                  False\n",
      "2015.460890.Advanced-Study.pdf                     False\n",
      "3zkmt1xz26sjtr8p486h89nmsc_thumbnail.png           False\n",
      "7z2201-x64.msi                                     False\n",
      "A New Look at Modern Indian History - B.L Grover.pdf False\n",
      "acc file.docx                                      False\n",
      "acc file.pdf                                       False\n",
      "ACC.docx                                           False\n",
      "ACC.pdf                                            False\n",
      "adi-shankaracharya_1477648480.webp                 False\n",
      "Adobe Premiere pro 2020 14.4.0.38 (x64) Multilingual + Pre-Activated.torrent False\n",
      "amakabhosda.mp3                                    False\n",
      "american_captain                                   False\n",
      "american_captain.zip                               False\n",
      "ananya dbms.pdf                                    False\n",
      "ananya front page.pdf                              False\n",
      "ANUJ Dudi_30082022.dwg                             False\n",
      "ANUJ_Dudi_30082022.dwg                             False\n",
      "aradhy singh and rahul.docx                        False\n",
      "Assignment File 'C' FINALL.docx                    False\n",
      "Assignment File 'C' FINALL.pdf                     False\n",
      "attachments                                        False\n",
      "attachments (1)                                    False\n",
      "attachments (1).zip                                False\n",
      "attachments.zip                                    False\n",
      "bakery kitchen.jpg                                 False\n",
      "BBA_SEM_6_MANAN_DAVDA.docx                         False\n",
      "BCA semester 1.pdf                                 False\n",
      "BCA UNIT 4.pdf                                     False\n",
      "betterttv.user.js                                  False\n",
      "Bhakti movement assignment.docx                    False\n",
      "bolnaantyaaukya.mp3                                False\n",
      "BraveBrowserSetup.exe                              False\n",
      "British Policy in India 1858-1905 ( PDFDrive ) (1).pdf False\n",
      "CamScanner 11-16-2022 13.23.pdf                    False\n",
      "College Ad Video Template (Editable).mp4           False\n",
      "Core-Temp-setup.exe                                False\n",
      "Cosmic Byte Oberon Headset                         False\n",
      "Cosmic Byte Oberon Headset.zip                     False\n",
      "ddd230c9.mp4                                       False\n",
      "DE Practical File.pdf                              False\n",
      "desktop.ini                                        False\n",
      "DiscordSetup.exe                                   False\n",
      "discord_backup_codes.txt                           False\n",
      "Document.pdf                                       False\n",
      "download.jfif                                      False\n",
      "EPC Practical File.pdf                             False\n",
      "Evil-Dead-The-Game.jpg                             False\n",
      "example03.docx                                     False\n",
      "fart2.mp3                                          False\n",
      "Fluffing a Duck - Kevin MacLeod.mp3                False\n",
      "fotor_2023-4-7_17_1_1.png                          False\n",
      "Front page C (1).pdf                               False\n",
      "Front page C.docx                                  False\n",
      "Front page C.pdf                                   False\n",
      "front page dbms.pdf                                False\n",
      "FRONT PAGE SE.pdf                                  False\n",
      "gandnafulao.mp3                                    False\n",
      "gang_of_three                                      False\n",
      "gang_of_three.zip                                  False\n",
      "GAZZA FREE BEAT SHAKE PRESET.ffx                   False\n",
      "GeForce_Experience_v3.28.0.417.exe                 False\n",
      "Git-2.45.2-64-bit.exe                              False\n",
      "GoogleEarthProSetup.exe                            False\n",
      "GSnap.dll                                          False\n",
      "gta-5.jpg                                          False\n",
      "GVSTLicense.txt                                    False\n",
      "History-Paper-I (1).pdf                            False\n",
      "HITMAN.World.of.Assassination.v3.140.0.Incl.ALL.DLC.zip.torrent False\n",
      "image-removebg-preview.png                         False\n",
      "image.png                                          False\n",
      "image2vector.svg                                   False\n",
      "IMG-20220901-WA0001.jpg                            False\n",
      "IMG-20220904-WA0000.jpg                            False\n",
      "IMG_20220907_205411.jpg                            False\n",
      "IMG_20220907_205425.jpg                            False\n",
      "IMG_20230125_003503.jpg                            False\n",
      "Index (1).pdf                                      False\n",
      "INDEX (2).pdf                                      False\n",
      "Index.docx                                         False\n",
      "Index.pdf                                          False\n",
      "invitation.png                                     False\n",
      "It.Takes.Two.v1.0.0.4.zip.torrent                  False\n",
      "LAB FILE (1) paras.docx                            False\n",
      "LAB FILE (1) paras.pdf                             False\n",
      "LAB FILE (1).docx                                  False\n",
      "LAB FILE (1).pdf                                   False\n",
      "LAB file half (1).pdf                              False\n",
      "LAB file half.docx                                 False\n",
      "LAB file half.pdf                                  False\n",
      "LAB FILE.docx                                      False\n",
      "LAB FILE.pdf                                       False\n",
      "Letterhead.pdf                                     False\n",
      "lime lights news.jpg                               False\n",
      "logo (2).svg                                       False\n",
      "logo.cdr                                           False\n",
      "logo.eps                                           False\n",
      "logo.png                                           False\n",
      "logo.svg                                           False\n",
      "Logolkouniv.jpg                                    False\n",
      "Logolkouniv.png                                    False\n",
      "logo_adobe_express.svg                             False\n",
      "Marvels.Spider.Man.Miles.Morales.v1.1130.0.0.zip.torrent False\n",
      "maths questions.pdf                                False\n",
      "maxresdefault.jpg                                  False\n",
      "message.txt                                        False\n",
      "Miniconda3-latest-Windows-x86_64.exe               False\n",
      "mond.rmskin                                        False\n",
      "MoU_Orchha_18112022.docx                           False\n",
      "mysql-installer-community-8.0.37.0.msi             False\n",
      "Nature of history assignment.docx                  False\n",
      "Navy And Gold Simple Modern Farewell Party Invitation Square (1).png False\n",
      "Navy And Gold Simple Modern Farewell Party Invitation Square.png False\n",
      "NEXITA.jpg                                         False\n",
      "NVIDIA_app_beta_v10.0.1.256.exe                    False\n",
      "nvidia_broadcast_v1.3.5.4.exe                      False\n",
      "NVIDIA_RTX_Voice_v0.5.12.6_Updated (1).exe         False\n",
      "NVIDIA_RTX_Voice_v0.5.12.6_Updated.exe             False\n",
      "Oracle 11g Express edition Win64                   False\n",
      "Oracle 11g Express edition Win64.zip               False\n",
      "osu!install.exe                                    False\n",
      "Palworld_v0.1.4.0.torrent                          False\n",
      "PDFscanner_1668780362851.jpg                       False\n",
      "PDFscanner_1668780362851.pdf                       False\n",
      "Pexels Videos 2829278.mp4                          False\n",
      "pexels-cup-of-couple-8473725.jpg                   False\n",
      "pexels-imani-williams-5904599.mp4                  False\n",
      "pexels-puneet-singh-rawat-10507250.mp4             False\n",
      "pexels-stefano-barbieri-5911596.mp4                False\n",
      "phrase_n_clause[1].pdf                             False\n",
      "phrase_n_clause[1][1].pdf                          False\n",
      "Plassey_Monument.jpg                               False\n",
      "production ID_4361412.mp4                          False\n",
      "ProtonVPN_win_v2.2.0.exe                           False\n",
      "Prototype2_FitGirlRepack_INT.torrent               False\n",
      "pvideo.mp4                                         False\n",
      "Rainmeter-4.5.18.exe                               False\n",
      "RawAccel_v1.6.1.zip                                False\n",
      "resume5656565656.docx                              False\n",
      "roadisgali.mp3                                     False\n",
      "Robert-Clive.jpg                                   False\n",
      "Screenshot_20230324_130200_GPay - Nischay Agarwal.jpg False\n",
      "shivom enterprises Letterhead.pdf                  False\n",
      "shivom enterprises Letterhead1.pdf                 False\n",
      "shivom_enterprises2-removebg-preview.png           False\n",
      "Skyblue Paperplanes Farewell Party Invitation.png  False\n",
      "SpotifySetup.exe                                   False\n",
      "SQL2022-SSEI-Expr.exe                              False\n",
      "SSMS-Setup-ENU.exe                                 False\n",
      "SY_18da3585-169e-411a-bf84-0e40fa6454bd_58.pdf     False\n",
      "SY_18da3585-169e-411a-bf84-0e40fa6454bd_58_1.pdf   False\n",
      "tattoo-design-name-blaze-10.png                    False\n",
      "Tbone Says Jod _ Funny Moments.mp4                 False\n",
      "Telegram Desktop                                   False\n",
      "tf16392877_win32.dotx                              False\n",
      "Unit-29.pdf                                        False\n",
      "Untitled design.png                                False\n",
      "Untitled.png                                       False\n",
      "utorrent_installer.exe                             False\n",
      "Valorant Thumbnail Pack by SHK-20221113T151011Z-001 False\n",
      "Valorant Thumbnail Pack by SHK-20221113T151011Z-001.zip False\n",
      "Valorant Tracker - Installer.exe                   False\n",
      "video (1).mp4                                      False\n",
      "video.mp4                                          False\n",
      "videoplayback.mp3                                  False\n",
      "videoplayback.mp4                                  False\n",
      "vintage time.jpg                                   False\n",
      "VSCodeUserSetup-x64-1.91.1.exe                     False\n",
      "whatthefuck.mp3                                    False\n",
      "winrar-x64-624.exe                                 False\n",
      "yehkoirandikhanahain.mp3                           False\n",
      "young star.jpg                                     False\n",
      "zina logistics.jpg                                 False\n",
      "~$itish Policy in India 1858-1905 ( PDFDrive ) (1).pdf False\n",
      "~$New Look at Modern Indian History - B.L Grover.pdf False\n"
     ]
    }
   ],
   "source": [
    "for item in content:\n",
    "    path = \"C:/Users/user/downloads\" + item\n",
    "    print(item.ljust(50), os.path.isfile(item))"
   ]
  },
  {
   "cell_type": "code",
   "execution_count": 55,
   "metadata": {},
   "outputs": [
    {
     "name": "stdout",
     "output_type": "stream",
     "text": [
      "path does not exists\n"
     ]
    }
   ],
   "source": [
    "address = \"c:/users/lenovo/pictures\"\n",
    "if os.path.exists(address):\n",
    "    print(\"path exists\")\n",
    "else:\n",
    "    print(\"path does not exists\")"
   ]
  },
  {
   "cell_type": "code",
   "execution_count": 58,
   "metadata": {},
   "outputs": [],
   "source": [
    "if not os.path.exists('folder1'):\n",
    "    os.mkdir(\"folder1\")"
   ]
  },
  {
   "cell_type": "code",
   "execution_count": 59,
   "metadata": {},
   "outputs": [],
   "source": [
    "os.makedirs(\"folder1/folder2/folder3\", exist_ok=True)"
   ]
  },
  {
   "cell_type": "code",
   "execution_count": 84,
   "metadata": {},
   "outputs": [
    {
     "name": "stdout",
     "output_type": "stream",
     "text": [
      "10689.12556 (1).pdf                                False 68193390\n",
      "123_s78RxkQU.mp4                                   False 207484977\n",
      "1685465846575.jpg                                  False 308094\n",
      "1685465846575.png                                  False 438656\n",
      "2015.460890.Advanced-Study.pdf                     False 41825361\n",
      "3zkmt1xz26sjtr8p486h89nmsc_thumbnail.png           False 40183\n",
      "7z2201-x64.msi                                     False 1912320\n",
      "A New Look at Modern Indian History - B.L Grover.pdf False 7439004\n",
      "acc file.docx                                      False 863440\n",
      "acc file.pdf                                       False 1094129\n",
      "ACC.docx                                           False 241867\n",
      "ACC.pdf                                            False 301545\n",
      "adi-shankaracharya_1477648480.webp                 False 102316\n",
      "Adobe Premiere pro 2020 14.4.0.38 (x64) Multilingual + Pre-Activated.torrent False 20442\n",
      "amakabhosda.mp3                                    False 64629\n",
      "american_captain                                   False 0\n",
      "american_captain.zip                               False 298819\n",
      "ananya dbms.pdf                                    False 1892490\n",
      "ananya front page.pdf                              False 304575\n",
      "ANUJ Dudi_30082022.dwg                             False 374966\n",
      "ANUJ_Dudi_30082022.dwg                             False 374966\n",
      "aradhy singh and rahul.docx                        False 961355\n",
      "Assignment File 'C' FINALL.docx                    False 2472189\n",
      "Assignment File 'C' FINALL.pdf                     False 1521768\n",
      "attachments                                        False 4096\n",
      "attachments (1)                                    False 0\n",
      "attachments (1).zip                                False 9621937\n",
      "attachments.zip                                    False 823733\n",
      "bakery kitchen.jpg                                 False 133262\n",
      "BBA_SEM_6_MANAN_DAVDA.docx                         False 2559207\n",
      "BCA semester 1.pdf                                 False 6541299\n",
      "BCA UNIT 4.pdf                                     False 392318\n",
      "betterttv.user.js                                  False 705\n",
      "Bhakti movement assignment.docx                    False 1280479\n",
      "bolnaantyaaukya.mp3                                False 192501\n",
      "BraveBrowserSetup.exe                              False 1367688\n",
      "British Policy in India 1858-1905 ( PDFDrive ) (1).pdf False 8221317\n",
      "CamScanner 11-16-2022 13.23.pdf                    False 614480\n",
      "College Ad Video Template (Editable).mp4           False 3665222\n",
      "Core-Temp-setup.exe                                False 1289312\n",
      "Cosmic Byte Oberon Headset                         False 0\n",
      "Cosmic Byte Oberon Headset.zip                     False 78523882\n",
      "ddd230c9.mp4                                       False 1798802\n",
      "DE Practical File.pdf                              False 22079017\n",
      "desktop.ini                                        False 282\n",
      "DiscordSetup.exe                                   False 96195352\n",
      "discord_backup_codes.txt                           False 232\n",
      "Document.pdf                                       False 8323600\n",
      "download.jfif                                      False 8106\n",
      "EPC Practical File.pdf                             False 5647893\n",
      "Evil-Dead-The-Game.jpg                             False 167250\n",
      "example03.docx                                     False 108816\n",
      "fart2.mp3                                          False 28149\n",
      "Fluffing a Duck - Kevin MacLeod.mp3                False 2697096\n",
      "fotor_2023-4-7_17_1_1.png                          False 1245568\n",
      "Front page C (1).pdf                               False 304599\n",
      "Front page C.docx                                  False 244829\n",
      "Front page C.pdf                                   False 138400\n",
      "front page dbms.pdf                                False 304666\n",
      "FRONT PAGE SE.pdf                                  False 397339\n",
      "gandnafulao.mp3                                    False 57717\n",
      "gang_of_three                                      False 0\n",
      "gang_of_three.zip                                  False 10969\n",
      "GAZZA FREE BEAT SHAKE PRESET.ffx                   False 92294\n",
      "GeForce_Experience_v3.28.0.417.exe                 False 131655600\n",
      "Git-2.45.2-64-bit.exe                              False 68131584\n",
      "GoogleEarthProSetup.exe                            False 1414600\n",
      "GSnap.dll                                          False 806400\n",
      "gta-5.jpg                                          False 687526\n",
      "GVSTLicense.txt                                    False 912\n",
      "History-Paper-I (1).pdf                            False 1103560\n",
      "HITMAN.World.of.Assassination.v3.140.0.Incl.ALL.DLC.zip.torrent False 5543982\n",
      "image-removebg-preview.png                         False 28005\n",
      "image.png                                          False 814286\n",
      "image2vector.svg                                   False 389595\n",
      "IMG-20220901-WA0001.jpg                            False 51411\n",
      "IMG-20220904-WA0000.jpg                            False 133164\n",
      "IMG_20220907_205411.jpg                            False 30444\n",
      "IMG_20220907_205425.jpg                            False 20297\n",
      "IMG_20230125_003503.jpg                            False 187035\n",
      "Index (1).pdf                                      False 134237\n",
      "INDEX (2).pdf                                      False 32056\n",
      "Index.docx                                         False 14097\n",
      "Index.pdf                                          False 199231\n",
      "invitation.png                                     False 778904\n",
      "It.Takes.Two.v1.0.0.4.zip.torrent                  False 3614938\n",
      "LAB FILE (1) paras.docx                            False 10692770\n",
      "LAB FILE (1) paras.pdf                             False 2579116\n",
      "LAB FILE (1).docx                                  False 10692417\n",
      "LAB FILE (1).pdf                                   False 2572981\n",
      "LAB file half (1).pdf                              False 2286273\n",
      "LAB file half.docx                                 False 2539515\n",
      "LAB file half.pdf                                  False 2105633\n",
      "LAB FILE.docx                                      False 2226405\n",
      "LAB FILE.pdf                                       False 2336095\n",
      "Letterhead.pdf                                     False 37605\n",
      "lime lights news.jpg                               False 76667\n",
      "logo (2).svg                                       False 327185\n",
      "logo.cdr                                           False 4827821\n",
      "logo.eps                                           False 63014\n",
      "logo.png                                           False 97078\n",
      "logo.svg                                           False 25985\n",
      "Logolkouniv.jpg                                    False 19327\n",
      "Logolkouniv.png                                    False 100768\n",
      "logo_adobe_express.svg                             False 160397\n",
      "Marvels.Spider.Man.Miles.Morales.v1.1130.0.0.zip.torrent False 4064215\n",
      "maths questions.pdf                                False 35154\n",
      "maxresdefault.jpg                                  False 132523\n",
      "message.txt                                        False 4105\n",
      "Miniconda3-latest-Windows-x86_64.exe               False 87147104\n",
      "mond.rmskin                                        False 1973152\n",
      "MoU_Orchha_18112022.docx                           False 924158\n",
      "mysql-installer-community-8.0.37.0.msi             False 310517760\n",
      "Nature of history assignment.docx                  False 14231\n",
      "Navy And Gold Simple Modern Farewell Party Invitation Square (1).png False 782528\n",
      "Navy And Gold Simple Modern Farewell Party Invitation Square.png False 781746\n",
      "NEXITA.jpg                                         False 113974\n",
      "NVIDIA_app_beta_v10.0.1.256.exe                    False 140136104\n",
      "nvidia_broadcast_v1.3.5.4.exe                      False 49748168\n",
      "NVIDIA_RTX_Voice_v0.5.12.6_Updated (1).exe         False 344758168\n",
      "NVIDIA_RTX_Voice_v0.5.12.6_Updated.exe             False 344758168\n",
      "Oracle 11g Express edition Win64                   False 0\n",
      "Oracle 11g Express edition Win64.zip               False 331923533\n",
      "osu!install.exe                                    False 4484552\n",
      "Palworld_v0.1.4.0.torrent                          False 162341\n",
      "PDFscanner_1668780362851.jpg                       False 5477759\n",
      "PDFscanner_1668780362851.pdf                       False 95362\n",
      "Pexels Videos 2829278.mp4                          False 4374634\n",
      "pexels-cup-of-couple-8473725.jpg                   False 2874982\n",
      "pexels-imani-williams-5904599.mp4                  False 4778772\n",
      "pexels-puneet-singh-rawat-10507250.mp4             False 21003176\n",
      "pexels-stefano-barbieri-5911596.mp4                False 11004960\n",
      "phrase_n_clause[1].pdf                             False 461583\n",
      "phrase_n_clause[1][1].pdf                          False 474329\n",
      "Plassey_Monument.jpg                               False 169438\n",
      "production ID_4361412.mp4                          False 34437293\n",
      "ProtonVPN_win_v2.2.0.exe                           False 30760040\n",
      "Prototype2_FitGirlRepack_INT.torrent               False 107458\n",
      "pvideo.mp4                                         False 7879213\n",
      "Rainmeter-4.5.18.exe                               False 2541136\n",
      "RawAccel_v1.6.1.zip                                False 1428217\n",
      "resume5656565656.docx                              False 113777\n",
      "roadisgali.mp3                                     False 238581\n",
      "Robert-Clive.jpg                                   False 81498\n",
      "Screenshot_20230324_130200_GPay - Nischay Agarwal.jpg False 159936\n",
      "shivom enterprises Letterhead.pdf                  False 40184\n",
      "shivom enterprises Letterhead1.pdf                 False 37791\n",
      "shivom_enterprises2-removebg-preview.png           False 63128\n",
      "Skyblue Paperplanes Farewell Party Invitation.png  False 166185\n",
      "SpotifySetup.exe                                   False 932824\n",
      "SQL2022-SSEI-Expr.exe                              False 4290992\n",
      "SSMS-Setup-ENU.exe                                 False 508830048\n",
      "SY_18da3585-169e-411a-bf84-0e40fa6454bd_58.pdf     False 1743261\n",
      "SY_18da3585-169e-411a-bf84-0e40fa6454bd_58_1.pdf   False 1648191\n",
      "tattoo-design-name-blaze-10.png                    False 20687\n",
      "Tbone Says Jod _ Funny Moments.mp4                 False 8484269\n",
      "Telegram Desktop                                   False 8192\n",
      "tf16392877_win32.dotx                              False 63341\n",
      "Unit-29.pdf                                        False 5431434\n",
      "Untitled design.png                                False 311554\n",
      "Untitled.png                                       False 148724\n",
      "utorrent_installer.exe                             False 1776568\n",
      "Valorant Thumbnail Pack by SHK-20221113T151011Z-001 False 0\n",
      "Valorant Thumbnail Pack by SHK-20221113T151011Z-001.zip False 219729111\n",
      "Valorant Tracker - Installer.exe                   False 2088104\n",
      "video (1).mp4                                      False 1895834\n",
      "video.mp4                                          False 34420136\n",
      "videoplayback.mp3                                  False 266616\n",
      "videoplayback.mp4                                  False 757413\n",
      "vintage time.jpg                                   False 137699\n",
      "VSCodeUserSetup-x64-1.91.1.exe                     False 99546648\n",
      "whatthefuck.mp3                                    False 16245\n",
      "winrar-x64-624.exe                                 False 3579880\n",
      "yehkoirandikhanahain.mp3                           False 38517\n",
      "young star.jpg                                     False 117025\n",
      "zina logistics.jpg                                 False 95819\n",
      "~$itish Policy in India 1858-1905 ( PDFDrive ) (1).pdf False 162\n",
      "~$New Look at Modern Indian History - B.L Grover.pdf False 162\n"
     ]
    }
   ],
   "source": [
    "for item in content:\n",
    "    path = \"C:/Users/user/downloads/\" + item\n",
    "    size = os.path.getsize(path) # in bytes and for kilobytes divide by 1024\n",
    "    print(item.ljust(50), str(os.path.isfile(item)).ljust(5), size)"
   ]
  },
  {
   "cell_type": "code",
   "execution_count": 85,
   "metadata": {},
   "outputs": [],
   "source": [
    "def roll_dice():\n",
    "    import random\n",
    "    print(f\"Rolled {random.randint(1,6)}\")"
   ]
  },
  {
   "cell_type": "code",
   "execution_count": 86,
   "metadata": {},
   "outputs": [
    {
     "name": "stdout",
     "output_type": "stream",
     "text": [
      "Rolled 3\n"
     ]
    }
   ],
   "source": [
    "roll_dice()"
   ]
  },
  {
   "cell_type": "code",
   "execution_count": 87,
   "metadata": {},
   "outputs": [
    {
     "name": "stdout",
     "output_type": "stream",
     "text": [
      "Rolled 3\n",
      "Rolled 2\n",
      "Rolled 4\n"
     ]
    }
   ],
   "source": [
    "roll_dice()\n",
    "roll_dice()\n",
    "roll_dice()"
   ]
  },
  {
   "cell_type": "code",
   "execution_count": 88,
   "metadata": {},
   "outputs": [],
   "source": [
    "def count_files_in_current_folder():\n",
    "    import os\n",
    "    size = len(os.listdir())\n",
    "    print(f\"Folder: {os.getcwd().split(\"\\\\\")[-1]}\")\n",
    "    print(f\"Total files in folder: {size}\")"
   ]
  },
  {
   "cell_type": "code",
   "execution_count": 89,
   "metadata": {},
   "outputs": [
    {
     "name": "stdout",
     "output_type": "stream",
     "text": [
      "Folder: data analytics\n",
      "Total files in folder: 17\n"
     ]
    }
   ],
   "source": [
    "count_files_in_current_folder()"
   ]
  },
  {
   "cell_type": "code",
   "execution_count": 90,
   "metadata": {},
   "outputs": [],
   "source": [
    "def word_count(sentence):\n",
    "    words = sentence.split()\n",
    "    return len(words)"
   ]
  },
  {
   "cell_type": "code",
   "execution_count": 92,
   "metadata": {},
   "outputs": [
    {
     "name": "stdout",
     "output_type": "stream",
     "text": [
      "6\n",
      "4\n",
      "10\n"
     ]
    }
   ],
   "source": [
    "count = word_count(\"Hi there, How are you doing?\")\n",
    "print(count)\n",
    "count2 = word_count(\"We are learning Python\")\n",
    "print(count2)\n",
    "print(count + count2)"
   ]
  },
  {
   "cell_type": "code",
   "execution_count": 93,
   "metadata": {},
   "outputs": [],
   "source": [
    "def area_of_circle(radius):\n",
    "    import math\n",
    "    area = math.pi * radius ** 2\n",
    "    return area"
   ]
  },
  {
   "cell_type": "code",
   "execution_count": 94,
   "metadata": {},
   "outputs": [
    {
     "name": "stdout",
     "output_type": "stream",
     "text": [
      "392.69908169872417\n"
     ]
    }
   ],
   "source": [
    "print(area_of_circle(5) + area_of_circle(10))"
   ]
  },
  {
   "cell_type": "code",
   "execution_count": 95,
   "metadata": {},
   "outputs": [
    {
     "name": "stdout",
     "output_type": "stream",
     "text": [
      "3.141592653589793\n"
     ]
    }
   ],
   "source": [
    "print(area_of_circle(1))"
   ]
  },
  {
   "cell_type": "code",
   "execution_count": 96,
   "metadata": {},
   "outputs": [],
   "source": [
    "def task(items,action):\n",
    "    if action == 'count':\n",
    "        return len(items)\n",
    "    elif action == 'sum':\n",
    "        return sum(items)\n",
    "    elif action == 'mean':\n",
    "        return sum(items)/len(items)\n",
    "    else:\n",
    "        return(\"invalid action\")\n",
    "# multiple returns"
   ]
  },
  {
   "cell_type": "code",
   "execution_count": 98,
   "metadata": {},
   "outputs": [
    {
     "name": "stdout",
     "output_type": "stream",
     "text": [
      "3 124\n"
     ]
    }
   ],
   "source": [
    "t1 = task([23,45,56], 'count')\n",
    "t2 = task([23,45,56], 'sum')\n",
    "print(t1,t2)"
   ]
  },
  {
   "cell_type": "code",
   "execution_count": 99,
   "metadata": {},
   "outputs": [],
   "source": [
    "def get_stats(numList):\n",
    "    size = len(numList)\n",
    "    total = sum(numList)\n",
    "    mean = total/size\n",
    "    mx = max(numList)\n",
    "    mn = min(numList)\n",
    "    return size,total,mean,mx,mn"
   ]
  },
  {
   "cell_type": "code",
   "execution_count": 100,
   "metadata": {},
   "outputs": [
    {
     "data": {
      "text/plain": [
       "(5, 16, 3.2, 6, 1)"
      ]
     },
     "execution_count": 100,
     "metadata": {},
     "output_type": "execute_result"
    }
   ],
   "source": [
    "get_stats([1,3,5,6,1])"
   ]
  },
  {
   "cell_type": "code",
   "execution_count": 101,
   "metadata": {},
   "outputs": [],
   "source": [
    "def get_stats(numList):    # function returning multiple values\n",
    "    size = len(numList)\n",
    "    total = sum(numList)\n",
    "    mean = total/size\n",
    "    mx = max(numList)\n",
    "    mn = min(numList)\n",
    "    return {\n",
    "        'size' : size,\n",
    "        'total': total,\n",
    "        'mean' : mean,\n",
    "        'max'  : mx,\n",
    "        'min'  : mn\n",
    "    }"
   ]
  },
  {
   "cell_type": "code",
   "execution_count": 102,
   "metadata": {},
   "outputs": [
    {
     "data": {
      "text/plain": [
       "{'size': 5, 'total': 16, 'mean': 3.2, 'max': 6, 'min': 1}"
      ]
     },
     "execution_count": 102,
     "metadata": {},
     "output_type": "execute_result"
    }
   ],
   "source": [
    "get_stats([1,3,5,6,1])"
   ]
  },
  {
   "cell_type": "code",
   "execution_count": 103,
   "metadata": {},
   "outputs": [],
   "source": [
    "def adder(a,b,c):\n",
    "    return a+b+c"
   ]
  },
  {
   "cell_type": "code",
   "execution_count": 104,
   "metadata": {},
   "outputs": [
    {
     "name": "stdout",
     "output_type": "stream",
     "text": [
      "6\n",
      "6\n"
     ]
    }
   ],
   "source": [
    "print(adder(1,2,3))\n",
    "print(adder(b=2,a=1,c=3))"
   ]
  },
  {
   "cell_type": "code",
   "execution_count": 105,
   "metadata": {},
   "outputs": [],
   "source": [
    "def adder_v2(a,b,c=10):\n",
    "    return a+b+c"
   ]
  },
  {
   "cell_type": "code",
   "execution_count": 106,
   "metadata": {},
   "outputs": [
    {
     "name": "stdout",
     "output_type": "stream",
     "text": [
      "40\n",
      "50\n",
      "47\n",
      "82\n"
     ]
    }
   ],
   "source": [
    "print(adder_v2(10,20))\n",
    "print(adder_v2(10,20,20))\n",
    "print(adder_v2(10,21,c=16))\n",
    "print(adder_v2(a=10,b=22,c=50))"
   ]
  },
  {
   "cell_type": "code",
   "execution_count": 14,
   "metadata": {},
   "outputs": [],
   "source": [
    "def multiply(a,b,c):\n",
    "    return a*b*c"
   ]
  },
  {
   "cell_type": "code",
   "execution_count": 15,
   "metadata": {},
   "outputs": [],
   "source": [
    "def multiply(listofValue):\n",
    "    pass"
   ]
  },
  {
   "cell_type": "code",
   "execution_count": 16,
   "metadata": {},
   "outputs": [],
   "source": [
    "multiply([1,2,3,4,5])"
   ]
  },
  {
   "cell_type": "code",
   "execution_count": 17,
   "metadata": {},
   "outputs": [],
   "source": [
    "def multiply(*nums):\n",
    "    print(nums)\n",
    "    print('size:',len(nums))"
   ]
  },
  {
   "cell_type": "code",
   "execution_count": 22,
   "metadata": {},
   "outputs": [
    {
     "name": "stdout",
     "output_type": "stream",
     "text": [
      "(1, 2, 3, 4, 5)\n",
      "size: 5\n"
     ]
    }
   ],
   "source": [
    "multiply(1,2,3,4,5)"
   ]
  },
  {
   "cell_type": "code",
   "execution_count": 3,
   "metadata": {},
   "outputs": [],
   "source": [
    "def getlength(*args):\n",
    "    result = []\n",
    "    for item in args:\n",
    "        result.append(len(item))\n",
    "    return result"
   ]
  },
  {
   "cell_type": "code",
   "execution_count": 4,
   "metadata": {},
   "outputs": [
    {
     "data": {
      "text/plain": [
       "[5, 6, 6, 4]"
      ]
     },
     "execution_count": 4,
     "metadata": {},
     "output_type": "execute_result"
    }
   ],
   "source": [
    "getlength('apple','banana','cherry','word')"
   ]
  },
  {
   "cell_type": "code",
   "execution_count": 5,
   "metadata": {},
   "outputs": [],
   "source": [
    "#**hwargs -> variable length keyword arguments\n",
    "def calc_expense(**data):\n",
    "    print(data)   # dictionary\n",
    "    print(len(data))"
   ]
  },
  {
   "cell_type": "code",
   "execution_count": 6,
   "metadata": {},
   "outputs": [
    {
     "name": "stdout",
     "output_type": "stream",
     "text": [
      "{'a': 100, 'b': 200, 'c': 300}\n",
      "3\n"
     ]
    }
   ],
   "source": [
    "calc_expense(a=100,b=200,c=300)"
   ]
  },
  {
   "cell_type": "code",
   "execution_count": 11,
   "metadata": {},
   "outputs": [],
   "source": [
    "# **kwargs should be the last parameter\n",
    "def laptop_info(filename='laptop.txt' , **specs,):\n",
    "    with open(filename, 'w') as f:\n",
    "        for key,value in specs.items():\n",
    "            f.write(f\"{key}: {value}\\n\")\n",
    "        print(\"Specs Saved\")"
   ]
  },
  {
   "cell_type": "code",
   "execution_count": 13,
   "metadata": {},
   "outputs": [
    {
     "name": "stdout",
     "output_type": "stream",
     "text": [
      "Specs Saved\n",
      "Specs Saved\n",
      "Specs Saved\n"
     ]
    }
   ],
   "source": [
    "laptop_info(\"old_laptop.txt\" , brand='lenovo', model='ideapad, ram=4Gb', OS='linux')\n",
    "\n",
    "laptop_info(\"new_laptop.txt\", model='legion 5 Pro', ram='16Gb', graphics='RTX 3060', storage='1Tb SSD', brand='Lenovo', OS='Windows 11')\n",
    "\n",
    "laptop_info()"
   ]
  },
  {
   "cell_type": "markdown",
   "metadata": {},
   "source": [
    "# Anonymous function\n",
    "```\n",
    "f(x) = x**2 + 10\n",
    "```\n",
    "```\n",
    "f(5)\n",
    "```"
   ]
  },
  {
   "cell_type": "code",
   "execution_count": 18,
   "metadata": {},
   "outputs": [
    {
     "name": "stdout",
     "output_type": "stream",
     "text": [
      "<function <lambda> at 0x0000024A567EA700>\n"
     ]
    }
   ],
   "source": [
    "f = lambda x: x**2 + 10\n",
    "print(f)"
   ]
  },
  {
   "cell_type": "code",
   "execution_count": 19,
   "metadata": {},
   "outputs": [
    {
     "data": {
      "text/plain": [
       "154"
      ]
     },
     "execution_count": 19,
     "metadata": {},
     "output_type": "execute_result"
    }
   ],
   "source": [
    "f(12)"
   ]
  },
  {
   "cell_type": "markdown",
   "metadata": {},
   "source": [
    "```\n",
    "g(a,b) = a + b + a * b / 2\n",
    "```"
   ]
  },
  {
   "cell_type": "code",
   "execution_count": 21,
   "metadata": {},
   "outputs": [
    {
     "data": {
      "text/plain": [
       "130.0"
      ]
     },
     "execution_count": 21,
     "metadata": {},
     "output_type": "execute_result"
    }
   ],
   "source": [
    "g = lambda a, b: a+b + a*b/2\n",
    "g(10,20)"
   ]
  },
  {
   "cell_type": "markdown",
   "metadata": {},
   "source": [
    "# map and filter function with lambda function"
   ]
  },
  {
   "cell_type": "code",
   "execution_count": 24,
   "metadata": {},
   "outputs": [
    {
     "data": {
      "text/plain": [
       "<map at 0x24a55cf2560>"
      ]
     },
     "execution_count": 24,
     "metadata": {},
     "output_type": "execute_result"
    }
   ],
   "source": [
    "data = ['1','5','7']\n",
    "map(int, data)    # lazy object"
   ]
  },
  {
   "cell_type": "code",
   "execution_count": 27,
   "metadata": {},
   "outputs": [],
   "source": [
    "result = [int(i) for i in data]   # comprehension"
   ]
  },
  {
   "cell_type": "code",
   "execution_count": 25,
   "metadata": {},
   "outputs": [
    {
     "data": {
      "text/plain": [
       "[1, 5, 7]"
      ]
     },
     "execution_count": 25,
     "metadata": {},
     "output_type": "execute_result"
    }
   ],
   "source": [
    "data = ['1','5','7']\n",
    "list(map(int, data))    # lazy object -> list"
   ]
  },
  {
   "cell_type": "code",
   "execution_count": 29,
   "metadata": {},
   "outputs": [
    {
     "data": {
      "text/plain": [
       "[1, 4, 25, 36, 361, 2916, 1024]"
      ]
     },
     "execution_count": 29,
     "metadata": {},
     "output_type": "execute_result"
    }
   ],
   "source": [
    "data = [1,2,5,6,19,54,32]\n",
    "list(map(lambda n: n**2, data))"
   ]
  },
  {
   "cell_type": "code",
   "execution_count": 30,
   "metadata": {},
   "outputs": [
    {
     "name": "stdout",
     "output_type": "stream",
     "text": [
      "1\n",
      "4\n",
      "25\n",
      "36\n",
      "361\n",
      "2916\n",
      "1024\n"
     ]
    }
   ],
   "source": [
    "for i in map(lambda n: n**2, data):\n",
    "    print(i)"
   ]
  },
  {
   "cell_type": "markdown",
   "metadata": {},
   "source": [
    "# generator"
   ]
  },
  {
   "cell_type": "code",
   "execution_count": 31,
   "metadata": {},
   "outputs": [],
   "source": [
    "def getlength(*args):\n",
    "    for item in args:\n",
    "        yield len(item)"
   ]
  },
  {
   "cell_type": "code",
   "execution_count": 33,
   "metadata": {},
   "outputs": [
    {
     "data": {
      "text/plain": [
       "[5, 6, 6, 4]"
      ]
     },
     "execution_count": 33,
     "metadata": {},
     "output_type": "execute_result"
    }
   ],
   "source": [
    "list(getlength('apple','banana','cherry','word'))"
   ]
  },
  {
   "cell_type": "code",
   "execution_count": null,
   "metadata": {},
   "outputs": [],
   "source": []
  }
 ],
 "metadata": {
  "kernelspec": {
   "display_name": "base",
   "language": "python",
   "name": "python3"
  },
  "language_info": {
   "codemirror_mode": {
    "name": "ipython",
    "version": 3
   },
   "file_extension": ".py",
   "mimetype": "text/x-python",
   "name": "python",
   "nbconvert_exporter": "python",
   "pygments_lexer": "ipython3",
   "version": "3.12.4"
  }
 },
 "nbformat": 4,
 "nbformat_minor": 2
}

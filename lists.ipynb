{
 "cells": [
  {
   "cell_type": "markdown",
   "metadata": {},
   "source": [
    "Data Structure - list\n",
    "1. creating\n",
    "2. indexing and slicing ( same as string )\n",
    "3. methods - 11 methods total\n",
    "4. list comprehension"
   ]
  },
  {
   "cell_type": "code",
   "execution_count": 1,
   "metadata": {},
   "outputs": [],
   "source": [
    "# creation\n",
    "x = [] # empty list\n",
    "num_list = [1,2,3,4,5] # numerical list\n",
    "word_list = ['this','that','of','what'] # textual list\n",
    "bool_list = [True,True,False,True] # boolean list\n",
    "mixed_list = [1,2,'three',True] # mixed datatypes\n",
    "nested_lsit = [[1,2,3],[4,5,6]] # nested lists"
   ]
  },
  {
   "cell_type": "code",
   "execution_count": 2,
   "metadata": {},
   "outputs": [
    {
     "name": "stdout",
     "output_type": "stream",
     "text": [
      "[1, 4, 7, 10, 13]\n",
      "[[1, 2, 3], [4, 5, 6], [7, 8, 9]]\n",
      "[1, 1, 1, 1, 1, 1, 1, 1, 1, 1]\n"
     ]
    }
   ],
   "source": [
    "y=list(range(1,16,3)) # another method of creating list\n",
    "print(y)\n",
    "a = [1,2,3]\n",
    "b = [4,5,6]\n",
    "c = [7,8,9]\n",
    "mat = [a,b,c] # list of variables\n",
    "print(mat)\n",
    "z = [1] * 10 # duplicated list\n",
    "print(z)"
   ]
  },
  {
   "cell_type": "markdown",
   "metadata": {},
   "source": [
    "Rules For List :\n",
    "1. indexed\n",
    "2. ordered\n",
    "3. mutable ( changable at runtime )\n",
    "4. hetrogenous datatype\n",
    "5. can have duplicate values****\n",
    "6. represented with `[]`\n",
    "7. `list()` can be used to cast other data structures to list"
   ]
  },
  {
   "cell_type": "code",
   "execution_count": 6,
   "metadata": {},
   "outputs": [
    {
     "name": "stdout",
     "output_type": "stream",
     "text": [
      "13\n"
     ]
    }
   ],
   "source": [
    "names = ['Satwik','Manas','Shiv','Naman','Arpit','Ritesh','Paras','Faheem','Ammar','Esha','Sachin','Shailja','Savri']\n",
    "print(len(names))"
   ]
  },
  {
   "cell_type": "code",
   "execution_count": 4,
   "metadata": {},
   "outputs": [
    {
     "name": "stdout",
     "output_type": "stream",
     "text": [
      "Satwik\n",
      "Manas\n",
      "Ritesh\n",
      "Shailja\n",
      "Naman\n"
     ]
    }
   ],
   "source": [
    "# indexing\n",
    "print(names[0])\n",
    "print(names[1])\n",
    "print(names[5])\n",
    "print(names[-2])\n",
    "print(names[-10])"
   ]
  },
  {
   "cell_type": "code",
   "execution_count": 5,
   "metadata": {},
   "outputs": [
    {
     "name": "stdout",
     "output_type": "stream",
     "text": [
      "['Satwik', 'Manas', 'Shiv', 'Naman', 'Arpit']\n",
      "['Ammar', 'Esha', 'Sachin', 'Shailja', 'Savri']\n",
      "['Shiv', 'Naman', 'Arpit', 'Ritesh', 'Paras', 'Faheem', 'Ammar', 'Esha', 'Sachin']\n"
     ]
    }
   ],
   "source": [
    "# slicing\n",
    "print(names[:5])   # first 5\n",
    "print(names[-5:])  # last 5\n",
    "print(names[2:-2]) # all except first 2 and last 2"
   ]
  },
  {
   "cell_type": "code",
   "execution_count": 7,
   "metadata": {},
   "outputs": [
    {
     "name": "stdout",
     "output_type": "stream",
     "text": [
      "kiwtaS\n",
      "sanaM\n",
      "vihS\n",
      "namaN\n",
      "tiprA\n",
      "hsetiR\n",
      "saraP\n",
      "meehaF\n",
      "rammA\n",
      "ahsE\n",
      "nihcaS\n",
      "ajliahS\n",
      "irvaS\n"
     ]
    }
   ],
   "source": [
    "for i in names:\n",
    "    print(i[::-1])"
   ]
  },
  {
   "cell_type": "markdown",
   "metadata": {},
   "source": [
    "LISTS methods :\n",
    "1. add\n",
    "   - append\n",
    "   - extend\n",
    "   - insert\n",
    "2. remove\n",
    "   - remove\n",
    "   - pop\n",
    "   - clear\n",
    "3. utility\n",
    "   - reverse\n",
    "   - sort\n",
    "   - count\n",
    "   - index\n",
    "   - copy"
   ]
  },
  {
   "cell_type": "code",
   "execution_count": 14,
   "metadata": {},
   "outputs": [],
   "source": [
    "fruits=['apple','banana','cherry','dragon fruit','elderberry','fig']"
   ]
  },
  {
   "cell_type": "code",
   "execution_count": 15,
   "metadata": {},
   "outputs": [
    {
     "name": "stdout",
     "output_type": "stream",
     "text": [
      "['apple', 'banana', 'cherry', 'dragon fruit', 'elderberry', 'fig', 'guava']\n"
     ]
    }
   ],
   "source": [
    "fruits.append('guava')\n",
    "print(fruits)"
   ]
  },
  {
   "cell_type": "code",
   "execution_count": 16,
   "metadata": {},
   "outputs": [
    {
     "name": "stdout",
     "output_type": "stream",
     "text": [
      "['apple', 'banana', 'cherry', 'dragon fruit', 'elderberry', 'fig', 'guava', 'hazelnut', 'iceapple', 'jackfruit']\n"
     ]
    }
   ],
   "source": [
    "fruits.append('hazelnut')\n",
    "fruits.append('iceapple')\n",
    "fruits.append('jackfruit')\n",
    "print(fruits)"
   ]
  },
  {
   "cell_type": "code",
   "execution_count": 17,
   "metadata": {},
   "outputs": [
    {
     "name": "stdout",
     "output_type": "stream",
     "text": [
      "['apple', 'banana', 'cherry', 'dragon fruit', 'elderberry', 'fig', 'guava', 'hazelnut', 'iceapple', 'jackfruit', [1, 2, 3]]\n"
     ]
    }
   ],
   "source": [
    "fruits.append([1,2,3]) # adds the list to fruits in nested format\n",
    "print(fruits)"
   ]
  },
  {
   "cell_type": "code",
   "execution_count": 18,
   "metadata": {},
   "outputs": [
    {
     "name": "stdout",
     "output_type": "stream",
     "text": [
      "['apple', 'banana', 'cherry', 'dragon fruit', 'elderberry', 'fig', 'guava', 'hazelnut', 'iceapple', 'jackfruit', [1, 2, 3], 1, 2, 3]\n"
     ]
    }
   ],
   "source": [
    "fruits.extend([1,2,3]) # adds each item to the list as element\n",
    "print(fruits)"
   ]
  },
  {
   "cell_type": "code",
   "execution_count": 27,
   "metadata": {},
   "outputs": [
    {
     "name": "stdout",
     "output_type": "stream",
     "text": [
      "[11, 12, 13, 15, 18, 20]\n"
     ]
    }
   ],
   "source": [
    "x = [11,12,14,15,18,20]\n",
    "# replace 14 by 13\n",
    "# UPDATION\n",
    "x[2] = 13\n",
    "print(x)"
   ]
  },
  {
   "cell_type": "code",
   "execution_count": 28,
   "metadata": {},
   "outputs": [
    {
     "name": "stdout",
     "output_type": "stream",
     "text": [
      "[11, 12, 13, 14, 15, 18, 20]\n"
     ]
    }
   ],
   "source": [
    "x.insert(3,14)\n",
    "print(x)"
   ]
  },
  {
   "cell_type": "code",
   "execution_count": 29,
   "metadata": {},
   "outputs": [
    {
     "name": "stdout",
     "output_type": "stream",
     "text": [
      "[11, 12, 13, 14, 15, 16, 17, 18, 19, 20]\n"
     ]
    }
   ],
   "source": [
    "x.insert(5,16)\n",
    "x.insert(6,17)\n",
    "x.insert(8,19)\n",
    "print(x)"
   ]
  },
  {
   "cell_type": "code",
   "execution_count": 30,
   "metadata": {},
   "outputs": [
    {
     "name": "stdout",
     "output_type": "stream",
     "text": [
      "[11, 12, 13, 14, 15, 16, 17, 18, 19]\n"
     ]
    }
   ],
   "source": [
    "x.remove(20)\n",
    "print(x)"
   ]
  },
  {
   "cell_type": "code",
   "execution_count": 31,
   "metadata": {},
   "outputs": [
    {
     "name": "stdout",
     "output_type": "stream",
     "text": [
      "[1, 2, 3, 4]\n"
     ]
    }
   ],
   "source": [
    "# for no error\n",
    "x = [1,2,3,4,5]\n",
    "if 5 in x:\n",
    "    x.remove(5)\n",
    "if 6 in x:\n",
    "    x.remove(6)\n",
    "print(x)"
   ]
  },
  {
   "cell_type": "code",
   "execution_count": 32,
   "metadata": {},
   "outputs": [
    {
     "name": "stdout",
     "output_type": "stream",
     "text": [
      "[11, 22, 33, 44, 55]\n",
      "[11, 22, 44, 55]\n"
     ]
    }
   ],
   "source": [
    "x = [11,22,33,44,55,66]\n",
    "x.pop() # removes the last element\n",
    "print(x)\n",
    "x.pop(2) # removes the 2nd index element\n",
    "print(x)"
   ]
  },
  {
   "cell_type": "code",
   "execution_count": 33,
   "metadata": {},
   "outputs": [
    {
     "name": "stdout",
     "output_type": "stream",
     "text": [
      "[11, 22, 44]\n",
      "55\n"
     ]
    }
   ],
   "source": [
    "item = x.pop()\n",
    "print(x)\n",
    "print(item)"
   ]
  },
  {
   "cell_type": "code",
   "execution_count": 35,
   "metadata": {},
   "outputs": [
    {
     "name": "stdout",
     "output_type": "stream",
     "text": [
      "[]\n"
     ]
    }
   ],
   "source": [
    "x.clear()\n",
    "print(x)"
   ]
  },
  {
   "cell_type": "code",
   "execution_count": 36,
   "metadata": {},
   "outputs": [
    {
     "name": "stdout",
     "output_type": "stream",
     "text": [
      "[3, 2, 1, [1, 2, 3], 'jackfruit', 'iceapple', 'hazelnut', 'guava', 'fig', 'elderberry', 'dragon fruit', 'cherry', 'banana', 'apple']\n"
     ]
    }
   ],
   "source": [
    "fruits.reverse()\n",
    "print(fruits)"
   ]
  },
  {
   "cell_type": "code",
   "execution_count": 37,
   "metadata": {},
   "outputs": [
    {
     "name": "stdout",
     "output_type": "stream",
     "text": [
      "[1, 2, 3, 4, 5, 6, 7, 8, 9]\n",
      "[9, 8, 7, 6, 5, 4, 3, 2, 1]\n"
     ]
    }
   ],
   "source": [
    "num = [1,2,3,4,9,8,7,6,5]\n",
    "num.sort() # sort in ascending order\n",
    "print(num)\n",
    "num.sort(reverse=True) # sort in descending order\n",
    "print(num)"
   ]
  },
  {
   "cell_type": "code",
   "execution_count": 38,
   "metadata": {},
   "outputs": [
    {
     "name": "stdout",
     "output_type": "stream",
     "text": [
      "0\n",
      "4\n",
      "4\n",
      "2\n"
     ]
    }
   ],
   "source": [
    "x = [12,45,12,45,12,54,54,12,45,45]\n",
    "print(x.count(1))\n",
    "print(x.count(12))\n",
    "print(x.count(45))\n",
    "print(x.count(54))"
   ]
  },
  {
   "cell_type": "code",
   "execution_count": 39,
   "metadata": {},
   "outputs": [
    {
     "name": "stdout",
     "output_type": "stream",
     "text": [
      "[3, 2, 1, [1, 2, 3], 'jackfruit', 'iceapple', 'hazelnut', 'guava', 'fig', 'elderberry', 'dragon fruit', 'cherry', 'banana', 'apple']\n",
      "7\n"
     ]
    }
   ],
   "source": [
    "print(fruits)\n",
    "print(fruits.index('guava')) # tells the index of the particular element\n",
    "# this is case sensitive"
   ]
  },
  {
   "cell_type": "code",
   "execution_count": 40,
   "metadata": {},
   "outputs": [
    {
     "name": "stdout",
     "output_type": "stream",
     "text": [
      "[1, 2, 3]\n",
      "[1, 2, 3]\n",
      "True\n",
      "[1, 2, 3]\n",
      "[1, 2, 3]\n",
      "False\n"
     ]
    }
   ],
   "source": [
    "x = [1,2,3]\n",
    "y = x # store the reference of x in y means both are at same address\n",
    "print(x)\n",
    "print(y)\n",
    "print(y is x)\n",
    "z = x.copy()\n",
    "print(x)\n",
    "print(z)\n",
    "print(z is x)"
   ]
  },
  {
   "cell_type": "code",
   "execution_count": 1,
   "metadata": {},
   "outputs": [
    {
     "name": "stdout",
     "output_type": "stream",
     "text": [
      "[1, 4, 9, 16]\n"
     ]
    }
   ],
   "source": [
    "x = [1,2,3,4]\n",
    "x2 = []\n",
    "for i in x:\n",
    "    s = i**2\n",
    "    x2.append(s)\n",
    "print(x2)"
   ]
  },
  {
   "cell_type": "markdown",
   "metadata": {},
   "source": [
    "# List Comprehension\n",
    "`SYNTAX` ----- \n",
    "- new list = [operation loop]"
   ]
  },
  {
   "cell_type": "code",
   "execution_count": 2,
   "metadata": {},
   "outputs": [
    {
     "name": "stdout",
     "output_type": "stream",
     "text": [
      "[1, 4, 9, 16]\n"
     ]
    }
   ],
   "source": [
    "# alternative for above code\n",
    "x2 = [i**2 for i in x]\n",
    "print(x2)"
   ]
  },
  {
   "cell_type": "code",
   "execution_count": 5,
   "metadata": {},
   "outputs": [
    {
     "name": "stdout",
     "output_type": "stream",
     "text": [
      "[36, 100, 400, 4]\n"
     ]
    }
   ],
   "source": [
    "x = [1,3,6,7,10,11,20,2]\n",
    "x2 = [i**2 for i in x if i % 2==0] # comprehension with condition\n",
    "# syntax -----  new list = [operation loop condition]\n",
    "print(x2)"
   ]
  },
  {
   "cell_type": "code",
   "execution_count": 7,
   "metadata": {},
   "outputs": [
    {
     "name": "stdout",
     "output_type": "stream",
     "text": [
      "['sk', 'ms', 'sv', 'nn', 'at', 'rh', 'ps', 'fm', 'ar', 'ea', 'sn', 'sa', 'si']\n"
     ]
    }
   ],
   "source": [
    "names = ['Satwik','Manas','Shiv','Naman','Arpit','Ritesh','Paras','Faheem','Ammar','Esha','Sachin','Shailja','Savri']\n",
    "name2 = [(i[0] + i[-1]).lower() for i in names]\n",
    "print(name2)"
   ]
  }
 ],
 "metadata": {
  "kernelspec": {
   "display_name": "base",
   "language": "python",
   "name": "python3"
  },
  "language_info": {
   "codemirror_mode": {
    "name": "ipython",
    "version": 3
   },
   "file_extension": ".py",
   "mimetype": "text/x-python",
   "name": "python",
   "nbconvert_exporter": "python",
   "pygments_lexer": "ipython3",
   "version": "3.12.4"
  }
 },
 "nbformat": 4,
 "nbformat_minor": 2
}

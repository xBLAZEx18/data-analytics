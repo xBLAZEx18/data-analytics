{
 "cells": [
  {
   "cell_type": "markdown",
   "metadata": {},
   "source": [
    "# Data Structure - TUPLE\n",
    "- indexed\n",
    "- ordered\n",
    "- immutable****\n",
    "- hetrogenous\n",
    "- duplicates are allowed\n",
    "- represented by `()`\n",
    "- `tuple()` for creating tuple"
   ]
  },
  {
   "cell_type": "code",
   "execution_count": 1,
   "metadata": {},
   "outputs": [
    {
     "name": "stdout",
     "output_type": "stream",
     "text": [
      "<class 'tuple'> <class 'tuple'>\n",
      "<class 'tuple'> <class 'tuple'>\n",
      "(1, 2, 3, 4) (1,) ('a', 'b', 'c') (1, 2, 3, 4, 5, 6)\n"
     ]
    }
   ],
   "source": [
    "a = (1,2,3,4)\n",
    "b = (1,)   # single element tuple\n",
    "c = ('a','b','c')  # tuple of strings\n",
    "# python stores values by default as a tuple\n",
    "d = 1,2,3,4,5,6 # this is known as packing\n",
    "print(type(a),type(b))\n",
    "print(type(c),type(d))\n",
    "print(a,b,c,d)"
   ]
  },
  {
   "cell_type": "code",
   "execution_count": 2,
   "metadata": {},
   "outputs": [
    {
     "name": "stdout",
     "output_type": "stream",
     "text": [
      "1\n",
      "2\n",
      "3\n",
      "4\n"
     ]
    }
   ],
   "source": [
    "# traversing a tuple\n",
    "for i in a:\n",
    "    print(i)"
   ]
  },
  {
   "cell_type": "code",
   "execution_count": 3,
   "metadata": {},
   "outputs": [
    {
     "name": "stdout",
     "output_type": "stream",
     "text": [
      "1\n",
      "4\n",
      "3\n"
     ]
    }
   ],
   "source": [
    "# indexing\n",
    "print(a[0])   # first element\n",
    "print(a[-1])  # last element\n",
    "print(a[2])   # 2nd element"
   ]
  },
  {
   "cell_type": "code",
   "execution_count": 4,
   "metadata": {},
   "outputs": [
    {
     "name": "stdout",
     "output_type": "stream",
     "text": [
      "(2, 3)\n",
      "(4, 3, 2, 1)\n"
     ]
    }
   ],
   "source": [
    "# slicing\n",
    "print(a[1:3])  # 2nd to 3rd element\n",
    "print(a[::-1]) # reverse"
   ]
  },
  {
   "cell_type": "markdown",
   "metadata": {},
   "source": [
    "Methods in tuple - \n",
    "- count()\n",
    "- index()"
   ]
  },
  {
   "cell_type": "code",
   "execution_count": 6,
   "metadata": {},
   "outputs": [
    {
     "name": "stdout",
     "output_type": "stream",
     "text": [
      "5\n",
      "4\n",
      "5\n",
      "9\n",
      "11\n"
     ]
    }
   ],
   "source": [
    "a = 1,1,1,1,1,2,2,2,2,13,14,11\n",
    "print(a.count(1))\n",
    "print(a.count(2))\n",
    "print(a.index(2))\n",
    "print(a.index(13))\n",
    "print(a.index(11))"
   ]
  },
  {
   "cell_type": "markdown",
   "metadata": {},
   "source": [
    "# TUPLE UNPACKING"
   ]
  },
  {
   "cell_type": "code",
   "execution_count": 7,
   "metadata": {},
   "outputs": [
    {
     "name": "stdout",
     "output_type": "stream",
     "text": [
      "1 2 3 4\n"
     ]
    }
   ],
   "source": [
    "x = (1,2,3,4)\n",
    "a,b,c,d = x\n",
    "print(a,b,c,d)"
   ]
  },
  {
   "cell_type": "code",
   "execution_count": 15,
   "metadata": {},
   "outputs": [
    {
     "name": "stdout",
     "output_type": "stream",
     "text": [
      "1 [2]\n",
      "[1] 2\n",
      "1 2 []\n"
     ]
    }
   ],
   "source": [
    "i,*j = x\n",
    "print(i,j)\n",
    "*i,j = x\n",
    "print(i,j)\n",
    "x = (1,2)   # no error anyways\n",
    "i,j,*k = x\n",
    "print(i,j,k)"
   ]
  },
  {
   "cell_type": "code",
   "execution_count": 16,
   "metadata": {},
   "outputs": [
    {
     "name": "stdout",
     "output_type": "stream",
     "text": [
      "<generator object <genexpr> at 0x000001FD632E7E00>\n"
     ]
    }
   ],
   "source": [
    "sq = (i**2 for i in x)\n",
    "print(sq)\n",
    "# the answer is in lazy objects"
   ]
  },
  {
   "cell_type": "code",
   "execution_count": 17,
   "metadata": {},
   "outputs": [
    {
     "name": "stdout",
     "output_type": "stream",
     "text": [
      "(1, 4)\n"
     ]
    }
   ],
   "source": [
    "print(tuple(sq)) \n",
    "# comprehension can be done in tuple but you have to do casting as the output is in lazy objects"
   ]
  },
  {
   "cell_type": "code",
   "execution_count": null,
   "metadata": {},
   "outputs": [],
   "source": []
  }
 ],
 "metadata": {
  "kernelspec": {
   "display_name": "base",
   "language": "python",
   "name": "python3"
  },
  "language_info": {
   "codemirror_mode": {
    "name": "ipython",
    "version": 3
   },
   "file_extension": ".py",
   "mimetype": "text/x-python",
   "name": "python",
   "nbconvert_exporter": "python",
   "pygments_lexer": "ipython3",
   "version": "3.12.4"
  }
 },
 "nbformat": 4,
 "nbformat_minor": 2
}

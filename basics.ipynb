{
 "cells": [
  {
   "cell_type": "markdown",
   "metadata": {},
   "source": [
    "# Basics \n",
    "- variables\n",
    "- operators\n",
    "- datatypes\n",
    "- input/output"
   ]
  },
  {
   "cell_type": "code",
   "execution_count": 1,
   "metadata": {},
   "outputs": [],
   "source": [
    "x=3\n",
    "a,b=10,11\n",
    "c=a+b"
   ]
  },
  {
   "cell_type": "code",
   "execution_count": 2,
   "metadata": {},
   "outputs": [],
   "source": [
    "l=5\n",
    "b=10\n",
    "area=l*b"
   ]
  },
  {
   "cell_type": "code",
   "execution_count": 3,
   "metadata": {},
   "outputs": [],
   "source": [
    "del x"
   ]
  },
  {
   "cell_type": "markdown",
   "metadata": {},
   "source": [
    "# operators\n",
    "- assignment\n",
    "- arithmetic\n",
    "- comparisson\n",
    "- logical\n",
    "- membership\n",
    "- identity"
   ]
  },
  {
   "cell_type": "code",
   "execution_count": 4,
   "metadata": {},
   "outputs": [],
   "source": [
    "#arithmetic + - * / % ** //\n",
    "a=10\n",
    "b=3"
   ]
  },
  {
   "cell_type": "code",
   "execution_count": 5,
   "metadata": {},
   "outputs": [
    {
     "data": {
      "text/plain": [
       "13"
      ]
     },
     "execution_count": 5,
     "metadata": {},
     "output_type": "execute_result"
    }
   ],
   "source": [
    "a+b"
   ]
  },
  {
   "cell_type": "code",
   "execution_count": 6,
   "metadata": {},
   "outputs": [
    {
     "data": {
      "text/plain": [
       "7"
      ]
     },
     "execution_count": 6,
     "metadata": {},
     "output_type": "execute_result"
    }
   ],
   "source": [
    "a-b"
   ]
  },
  {
   "cell_type": "code",
   "execution_count": 7,
   "metadata": {},
   "outputs": [
    {
     "data": {
      "text/plain": [
       "30"
      ]
     },
     "execution_count": 7,
     "metadata": {},
     "output_type": "execute_result"
    }
   ],
   "source": [
    "a*b"
   ]
  },
  {
   "cell_type": "code",
   "execution_count": 8,
   "metadata": {},
   "outputs": [
    {
     "data": {
      "text/plain": [
       "3.3333333333333335"
      ]
     },
     "execution_count": 8,
     "metadata": {},
     "output_type": "execute_result"
    }
   ],
   "source": [
    "a/b"
   ]
  },
  {
   "cell_type": "code",
   "execution_count": 9,
   "metadata": {},
   "outputs": [
    {
     "name": "stdout",
     "output_type": "stream",
     "text": [
      "1\n",
      "1000\n",
      "3\n"
     ]
    }
   ],
   "source": [
    "print(a%b)\n",
    "print(a**b)\n",
    "print(a//b)"
   ]
  },
  {
   "cell_type": "code",
   "execution_count": 10,
   "metadata": {},
   "outputs": [
    {
     "name": "stdout",
     "output_type": "stream",
     "text": [
      "False\n",
      "True\n",
      "True\n",
      "False\n",
      "False\n",
      "True\n"
     ]
    }
   ],
   "source": [
    "#comparison > < >= <= == !=\n",
    "x=120\n",
    "y=290\n",
    "print(x>y)\n",
    "print(x<y)\n",
    "print(x>=100)\n",
    "print(x<=100)\n",
    "print(x==100)\n",
    "print(x!=100)"
   ]
  },
  {
   "cell_type": "code",
   "execution_count": 12,
   "metadata": {},
   "outputs": [
    {
     "name": "stdout",
     "output_type": "stream",
     "text": [
      "True\n",
      "False\n",
      "True\n",
      "False\n",
      "False\n",
      "True\n"
     ]
    }
   ],
   "source": [
    "#logical -> and or not\n",
    "print(x>10 and y>50)\n",
    "print(x>10 and y<50)\n",
    "print(x>10 or y<50)\n",
    "print(x<10 or y<50)\n",
    "print(not x>5)\n",
    "print(not x<5)"
   ]
  },
  {
   "cell_type": "code",
   "execution_count": 14,
   "metadata": {},
   "outputs": [
    {
     "name": "stdout",
     "output_type": "stream",
     "text": [
      "True\n",
      "False\n",
      "False\n",
      "True\n"
     ]
    }
   ],
   "source": [
    "#membership operators\n",
    "l=[1,2,3,4,5,6,7]\n",
    "print(5 in l)\n",
    "print(10 in l)\n",
    "print(3 not in l)\n",
    "print(10 not in l)"
   ]
  },
  {
   "cell_type": "code",
   "execution_count": 15,
   "metadata": {},
   "outputs": [
    {
     "name": "stdout",
     "output_type": "stream",
     "text": [
      "True\n",
      "False\n",
      "True\n"
     ]
    }
   ],
   "source": [
    "#identity -> is, is not\n",
    "a=[1,2,3,4]\n",
    "b=a\n",
    "c=[1,2,3,4]\n",
    "print(a is b)\n",
    "print(a is c)\n",
    "print(b is not c)"
   ]
  },
  {
   "cell_type": "markdown",
   "metadata": {},
   "source": [
    "# datatypes\n",
    "- int (integer)\n",
    "- float (real numbers)\n",
    "- bool (boolean)\n",
    "- str (string/text)\n",
    "- NoneType (none)\n",
    "- list\n",
    "- tuple\n",
    "- set\n",
    "- dict (dictionary)"
   ]
  },
  {
   "cell_type": "code",
   "execution_count": 16,
   "metadata": {},
   "outputs": [],
   "source": [
    "num=5\n",
    "name=\"Paras gupta\"  \n",
    "pi=3.14159\n",
    "sleepy=True\n",
    "data=None\n",
    "a_list=[1,2,3,4,5]\n",
    "a_tuple=(1,2,3,4,5)\n",
    "a_set={1,2,3,4,5}\n",
    "a_dict={'a':10, 'b':20}"
   ]
  },
  {
   "cell_type": "code",
   "execution_count": 17,
   "metadata": {},
   "outputs": [
    {
     "name": "stdout",
     "output_type": "stream",
     "text": [
      "<class 'int'>\n",
      "<class 'str'>\n"
     ]
    }
   ],
   "source": [
    "print(type(num))\n",
    "print(type(name))"
   ]
  },
  {
   "cell_type": "markdown",
   "metadata": {},
   "source": [
    "# displaying output and getting input"
   ]
  },
  {
   "cell_type": "code",
   "execution_count": 1,
   "metadata": {},
   "outputs": [
    {
     "name": "stdout",
     "output_type": "stream",
     "text": [
      "\n",
      "Hello\n",
      "example string\n",
      "example print with multiple arguments\n",
      "example_print_with_multiple_arguments\n",
      "example😎💗print😎💗with😎💗multiple😎💗arguments\n",
      "exampleprintwithmultiplearguments\n",
      "C:/users/paras/desktop\n"
     ]
    }
   ],
   "source": [
    "print()\n",
    "print('Hello')\n",
    "print('example string')\n",
    "print('example', 'print', 'with', 'multiple', 'arguments')\n",
    "print('example', 'print', 'with', 'multiple', 'arguments', sep='_') \n",
    "print('example', 'print', 'with', 'multiple', 'arguments', sep='😎💗')\n",
    "print('example', 'print', 'with', 'multiple', 'arguments', sep='')\n",
    "print('C:', 'users', 'paras', 'desktop', sep='/')"
   ]
  },
  {
   "cell_type": "code",
   "execution_count": 3,
   "metadata": {},
   "outputs": [
    {
     "name": "stdout",
     "output_type": "stream",
     "text": [
      "['banana', 'apple', 'cherry', 'tomato']\n",
      "banana\n",
      "apple\n",
      "cherry\n",
      "tomato\n"
     ]
    }
   ],
   "source": [
    "fruits=['banana', 'apple', 'cherry', 'tomato']\n",
    "print(fruits)\n",
    "print(*fruits, sep='\\n')"
   ]
  },
  {
   "cell_type": "markdown",
   "metadata": {},
   "source": [
    "# displaying content with variables"
   ]
  },
  {
   "cell_type": "code",
   "execution_count": 6,
   "metadata": {},
   "outputs": [
    {
     "name": "stdout",
     "output_type": "stream",
     "text": [
      "Result => 10 + 20 = 30\n",
      "Result => 10 + 20 = 30\n"
     ]
    }
   ],
   "source": [
    "a,b=10,20\n",
    "c=a+b\n",
    "# Result => 10+20=30\n",
    "print('Result =>' ,a, '+' ,b, '=' ,c) #comma seperated\n",
    "print(f'Result => {a} + {b} = {c}') #f-string"
   ]
  },
  {
   "cell_type": "code",
   "execution_count": 9,
   "metadata": {},
   "outputs": [
    {
     "name": "stdout",
     "output_type": "stream",
     "text": [
      "So you are, Paras, i've been expecting you\n"
     ]
    }
   ],
   "source": [
    "t=int(input())\n",
    "name=input(\"Who are you?\")\n",
    "print(f\"So you are, {name}, i've been expecting you\")"
   ]
  },
  {
   "cell_type": "code",
   "execution_count": 12,
   "metadata": {},
   "outputs": [
    {
     "name": "stdout",
     "output_type": "stream",
     "text": [
      "Simple interest calculation\n",
      "Principlal => 12000\n",
      "Rate of interest => 3.52\n",
      "Time(yrs) => 10\n",
      "------------------------------\n",
      "Simple interest will be => 4224.0\n"
     ]
    }
   ],
   "source": [
    "p= int(input(\"Enter the principal amount: \"))\n",
    "r=float(input(\"Enter the rate of interest: \"))\n",
    "t=int(input(\"Enter the time in years: \"))\n",
    "si= p*r*t / 100\n",
    "print(\"Simple interest calculation\")\n",
    "print(f'Principlal => {p}')\n",
    "print(f'Rate of interest => {r}')\n",
    "print(f'Time(yrs) => {t}')\n",
    "print(\"---\"*10)\n",
    "print(f'Simple interest will be => {si}')"
   ]
  },
  {
   "cell_type": "code",
   "execution_count": 17,
   "metadata": {},
   "outputs": [
    {
     "name": "stdout",
     "output_type": "stream",
     "text": [
      "Simple interest calculation\n",
      "------------------------------\n",
      "Principlal                 12000\n",
      "Rate of interest           3.52\n",
      "Time(yrs)                  10\n",
      "------------------------------\n",
      "Simple interest will be    4224.0\n"
     ]
    }
   ],
   "source": [
    "print(\"Simple interest calculation\")\n",
    "print(\"---\"*10)\n",
    "print(f'Principlal  {p:20}')\n",
    "print(f'Rate of interest  {r:13}')\n",
    "print(f'Time(yrs)  {t:18}')\n",
    "print(\"---\"*10)\n",
    "print(f'Simple interest will be  {si:8}')"
   ]
  },
  {
   "cell_type": "code",
   "execution_count": 23,
   "metadata": {},
   "outputs": [
    {
     "name": "stdout",
     "output_type": "stream",
     "text": [
      "Volume of Sphere Calculation:\n",
      "------------------------------------------------------------\n",
      "Radius of the Sphere                  2.0\n",
      "Calulated Volume of the Sphere        33.49333333333333\n",
      "------------------------------------------------------------\n"
     ]
    }
   ],
   "source": [
    "r=float(input(\"Enter the radius of the Sphere:\"))\n",
    "V=4/3 * (3.14) * r**3\n",
    "print(\"Volume of Sphere Calculation:\")\n",
    "print(\"---\"*20)\n",
    "print(f\"Radius of the Sphere {r:20}\")\n",
    "print(f\"Calulated Volume of the Sphere {V:24}\")\n",
    "print(\"---\"*20)"
   ]
  }
 ],
 "metadata": {
  "kernelspec": {
   "display_name": "Python 3",
   "language": "python",
   "name": "python3"
  },
  "language_info": {
   "codemirror_mode": {
    "name": "ipython",
    "version": 3
   },
   "file_extension": ".py",
   "mimetype": "text/x-python",
   "name": "python",
   "nbconvert_exporter": "python",
   "pygments_lexer": "ipython3",
   "version": "3.12.4"
  }
 },
 "nbformat": 4,
 "nbformat_minor": 2
}

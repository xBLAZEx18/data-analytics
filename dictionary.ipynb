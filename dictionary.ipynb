{
 "cells": [
  {
   "cell_type": "markdown",
   "metadata": {},
   "source": [
    "# Data Structure - DICTIONARY\n",
    "\n",
    "- ordered\n",
    "- mutable\n",
    "- key-value pairs\n",
    "- keys are unique\n",
    "- values can be of any data type\n",
    "- keys should be immutable ( `int()` , `float()` , `string()` , `tuple()`)\n",
    "- keys are case sensitive\n",
    "- represented with `{ }`\n",
    "- `dict()` is used to make dictionary"
   ]
  },
  {
   "cell_type": "code",
   "execution_count": 1,
   "metadata": {},
   "outputs": [
    {
     "name": "stdout",
     "output_type": "stream",
     "text": [
      "{} {'apples': 50, 'oranges': 25} {'almond': 200, 'cashew': 100}\n"
     ]
    }
   ],
   "source": [
    "a = {} # empty dictionary\n",
    "b = {\n",
    "    'apples': 50,\n",
    "    'oranges': 25\n",
    "}\n",
    "c = dict(almond = 200, cashew = 100)\n",
    "print(a,b,c)"
   ]
  },
  {
   "cell_type": "code",
   "execution_count": 2,
   "metadata": {},
   "outputs": [
    {
     "name": "stdout",
     "output_type": "stream",
     "text": [
      "{'k1': {'k11': 5, 'k12': 10}, 'k2': {'k21': 15, 'k22': 20}}\n"
     ]
    }
   ],
   "source": [
    "# nested dictionary\n",
    "d = {\n",
    "    \"k1\":{\n",
    "        \"k11\": 5,\n",
    "        \"k12\": 10\n",
    "    },\n",
    "    \"k2\":{\n",
    "        \"k21\": 15,\n",
    "        \"k22\": 20\n",
    "    }\n",
    "}\n",
    "print(d)"
   ]
  },
  {
   "cell_type": "code",
   "execution_count": 3,
   "metadata": {},
   "outputs": [
    {
     "name": "stdout",
     "output_type": "stream",
     "text": [
      "50\n",
      "None\n",
      "not found\n",
      "50\n"
     ]
    }
   ],
   "source": [
    "print(b['apples'])  # direct access\n",
    "# print(b['apple']) -- `this gives error`\n",
    "print(b.get('apple'))\n",
    "print(b.get('apple','not found'))    # default value\n",
    "print(b.get('apples'))"
   ]
  },
  {
   "cell_type": "code",
   "execution_count": 4,
   "metadata": {},
   "outputs": [
    {
     "name": "stdout",
     "output_type": "stream",
     "text": [
      "{'apples': 50, 'oranges': 25, 'mango': 10, 'dates': 5, 'peach': 15}\n"
     ]
    }
   ],
   "source": [
    "# add/update values\n",
    "b['mango'] = 10 # adding values\n",
    "b['dates'] = 5\n",
    "b['peach'] = 15\n",
    "b['apples'] = 50 # updating existing value\n",
    "print(b)"
   ]
  },
  {
   "cell_type": "code",
   "execution_count": 5,
   "metadata": {},
   "outputs": [
    {
     "name": "stdout",
     "output_type": "stream",
     "text": [
      "{'apples': 50, 'oranges': 25, 'dates': 5, 'peach': 15}\n"
     ]
    }
   ],
   "source": [
    "# remove\n",
    "b.pop('mango')\n",
    "print(b)"
   ]
  },
  {
   "cell_type": "code",
   "execution_count": 6,
   "metadata": {},
   "outputs": [
    {
     "name": "stdout",
     "output_type": "stream",
     "text": [
      "apples 50\n",
      "oranges 25\n",
      "dates 5\n",
      "peach 15\n",
      "apples 50\n",
      "oranges 25\n",
      "dates 5\n",
      "peach 15\n",
      "50\n",
      "25\n",
      "5\n",
      "15\n"
     ]
    }
   ],
   "source": [
    "# traversal \n",
    "# style 1\n",
    "for key in b:\n",
    "    print(key , b[key])\n",
    "\n",
    "# style 2\n",
    "for k,v in b.items():\n",
    "    print(k,v)\n",
    "\n",
    "# style 3\n",
    "for v in b.values():\n",
    "    print(v)"
   ]
  },
  {
   "cell_type": "code",
   "execution_count": 7,
   "metadata": {},
   "outputs": [
    {
     "name": "stdout",
     "output_type": "stream",
     "text": [
      "dict_keys(['apples', 'oranges', 'dates', 'peach'])\n"
     ]
    }
   ],
   "source": [
    "print(b.keys())"
   ]
  },
  {
   "cell_type": "code",
   "execution_count": null,
   "metadata": {},
   "outputs": [],
   "source": []
  }
 ],
 "metadata": {
  "kernelspec": {
   "display_name": "base",
   "language": "python",
   "name": "python3"
  },
  "language_info": {
   "codemirror_mode": {
    "name": "ipython",
    "version": 3
   },
   "file_extension": ".py",
   "mimetype": "text/x-python",
   "name": "python",
   "nbconvert_exporter": "python",
   "pygments_lexer": "ipython3",
   "version": "3.12.4"
  }
 },
 "nbformat": 4,
 "nbformat_minor": 2
}
